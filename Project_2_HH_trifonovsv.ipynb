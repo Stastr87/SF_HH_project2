{
  "cells": [
    {
      "cell_type": "markdown",
      "id": "42289889-bd57-434e-9637-d3e354756316",
      "metadata": {
        "id": "42289889-bd57-434e-9637-d3e354756316"
      },
      "source": [
        "<center> <img src = https://raw.githubusercontent.com/AndreyRysistov/DatasetsForPandas/main/hh%20label.jpg alt=\"drawing\" style=\"width:400px;\">"
      ]
    },
    {
      "cell_type": "markdown",
      "id": "829cb75b-f14e-4ba8-9195-7ba929a7d656",
      "metadata": {
        "id": "829cb75b-f14e-4ba8-9195-7ba929a7d656",
        "tags": []
      },
      "source": [
        "# <center> Проект: Анализ вакансий из HeadHunter\n",
        "   "
      ]
    },
    {
      "cell_type": "code",
      "execution_count": 178,
      "id": "dccfde33-2452-43fb-a8a5-5c6ebc02a71d",
      "metadata": {
        "id": "dccfde33-2452-43fb-a8a5-5c6ebc02a71d"
      },
      "outputs": [],
      "source": [
        "import pandas as pd\n",
        "import psycopg2"
      ]
    },
    {
      "cell_type": "code",
      "execution_count": 179,
      "id": "oVKH4ehvf8Ay",
      "metadata": {
        "id": "oVKH4ehvf8Ay"
      },
      "outputs": [],
      "source": [
        "connection_params = {\"dbname\":\"project_sql\",\n",
        "                     \"dbname\":\"project_sql\",\n",
        "                     \"user\":\"skillfactory\",\n",
        "                     \"password\":\"cCkxxLVrDE8EbvjueeMedPKt\",\n",
        "                     \"host\":\"84.201.134.129\",\n",
        "                     \"port\":5432}"
      ]
    },
    {
      "cell_type": "code",
      "execution_count": 180,
      "id": "G4X_q8KBf7SF",
      "metadata": {
        "id": "G4X_q8KBf7SF"
      },
      "outputs": [],
      "source": [
        "class DBObj():\n",
        "    def __init__(self,connection_params=connection_params, query=None):\n",
        "        # Создаем соединеине с БД\n",
        "        connection = psycopg2.connect(**connection_params)\n",
        "        # Создаем точку взаимодействия с БД - курсор\n",
        "        cursor = connection.cursor()\n",
        "        # Выполняем запрос к БД\n",
        "        cursor.execute(query)\n",
        "        # Возвращаем список строк\n",
        "        self._records = cursor.fetchall()\n",
        "        # Закроем соедиение\n",
        "        connection.close()\n",
        "    \n",
        "    def to_string(self):\n",
        "        '''Возвращает результат запроса в виде первой ячейки\n",
        "        '''\n",
        "        return str(self._records[0][0])\n",
        "\n",
        "    def to_rows(self):\n",
        "        '''Возвращает результат запроса в виде списка строк\n",
        "        '''\n",
        "        return self._records\n",
        "    \n",
        "    def to_table(self, columns=None):\n",
        "        ''' Возвращает результат запроса в виде таблицы\n",
        "\n",
        "        Arguments:\n",
        "        columns - список столбцов\n",
        "        '''\n",
        "        return pd.DataFrame(self._records, columns=columns)"
      ]
    },
    {
      "cell_type": "markdown",
      "id": "0dc6476b-7a00-44f1-ac93-6e3baed33a29",
      "metadata": {
        "id": "0dc6476b-7a00-44f1-ac93-6e3baed33a29"
      },
      "source": [
        "# Юнит 3. Предварительный анализ данных"
      ]
    },
    {
      "cell_type": "markdown",
      "id": "889782b6-8d1c-410e-8920-e57f27917c64",
      "metadata": {
        "id": "889782b6-8d1c-410e-8920-e57f27917c64"
      },
      "source": [
        "1. Напишите запрос, который посчитает количество вакансий в нашей базе (вакансии находятся в таблице vacancies). "
      ]
    },
    {
      "cell_type": "code",
      "execution_count": 181,
      "id": "bc39e68e-ed02-4ee2-9235-7258a2f867a8",
      "metadata": {
        "id": "bc39e68e-ed02-4ee2-9235-7258a2f867a8"
      },
      "outputs": [],
      "source": [
        "query = f'''SELECT COUNT(*)\n",
        "            FROM public.vacancies\n",
        "            '''"
      ]
    },
    {
      "cell_type": "code",
      "execution_count": 182,
      "id": "7mAwtsk4hEHY",
      "metadata": {
        "id": "7mAwtsk4hEHY"
      },
      "outputs": [],
      "source": [
        "# результат запроса\n",
        "result_3_1 = f'Вакансий в базе: {DBObj(query=query).to_string()}'"
      ]
    },
    {
      "cell_type": "markdown",
      "id": "b583485d-1f9e-494e-ada4-80ffff7c53d6",
      "metadata": {
        "id": "b583485d-1f9e-494e-ada4-80ffff7c53d6"
      },
      "source": [
        "2. Напишите запрос, который посчитает количество работодателей (таблица employers). "
      ]
    },
    {
      "cell_type": "code",
      "execution_count": 183,
      "id": "5408c52c-3407-4a63-b25b-1aafa2322d28",
      "metadata": {
        "id": "5408c52c-3407-4a63-b25b-1aafa2322d28"
      },
      "outputs": [],
      "source": [
        "# текст запроса\n",
        "query = f'''SELECT COUNT(*)\n",
        "            FROM public.employers\n",
        "            '''"
      ]
    },
    {
      "cell_type": "code",
      "execution_count": 184,
      "id": "jVL4eshKhdqc",
      "metadata": {
        "id": "jVL4eshKhdqc"
      },
      "outputs": [],
      "source": [
        "# результат запроса\n",
        "result_3_2 = f'Работодателей в базе: {DBObj(query=query).to_string()}'"
      ]
    },
    {
      "cell_type": "markdown",
      "id": "a2bfff1f-c975-4bf6-84be-2185d79dcb76",
      "metadata": {
        "id": "a2bfff1f-c975-4bf6-84be-2185d79dcb76"
      },
      "source": [
        "3. Посчитате с помощью запроса количество регионов (таблица areas)."
      ]
    },
    {
      "cell_type": "code",
      "execution_count": 185,
      "id": "1m8QJwBYhey6",
      "metadata": {
        "id": "1m8QJwBYhey6"
      },
      "outputs": [],
      "source": [
        "# текст запроса\n",
        "query = f'''SELECT DISTINCT COUNT(*)\n",
        "            FROM public.areas\n",
        "            '''"
      ]
    },
    {
      "cell_type": "code",
      "execution_count": 186,
      "id": "EZsn9tlfhe7f",
      "metadata": {
        "id": "EZsn9tlfhe7f"
      },
      "outputs": [],
      "source": [
        "# результат запроса\n",
        "result_3_3 = f'Регионов в базе: {DBObj(query=query).to_string()}'"
      ]
    },
    {
      "cell_type": "markdown",
      "id": "41bb59f3-53cc-4a67-a5bc-bedf573955e4",
      "metadata": {
        "id": "41bb59f3-53cc-4a67-a5bc-bedf573955e4"
      },
      "source": [
        "4. Посчитате с помощью запроса количество сфер деятельности в базе (таблица industries)."
      ]
    },
    {
      "cell_type": "code",
      "execution_count": 187,
      "id": "d286cf4c-707b-4cd2-9190-7ab3587d04a1",
      "metadata": {
        "id": "d286cf4c-707b-4cd2-9190-7ab3587d04a1"
      },
      "outputs": [],
      "source": [
        "# текст запроса\n",
        "query = f'''SELECT COUNT(*)\n",
        "            FROM public.industries\n",
        "            '''"
      ]
    },
    {
      "cell_type": "code",
      "execution_count": 188,
      "id": "JYAaoZ4qhfzW",
      "metadata": {
        "id": "JYAaoZ4qhfzW"
      },
      "outputs": [],
      "source": [
        "# результат запроса\n",
        "result_3_4 = f'Сфер деятельности в базе: {DBObj(query=query).to_string()}'"
      ]
    },
    {
      "cell_type": "markdown",
      "id": "9a8a2181-6914-448b-85f1-38f5f18b8a93",
      "metadata": {
        "id": "9a8a2181-6914-448b-85f1-38f5f18b8a93"
      },
      "source": [
        "***"
      ]
    },
    {
      "cell_type": "code",
      "execution_count": 189,
      "id": "be4e9bd3-a4db-4a20-82fb-6b02fc2957e0",
      "metadata": {
        "id": "be4e9bd3-a4db-4a20-82fb-6b02fc2957e0"
      },
      "outputs": [
        {
          "name": "stdout",
          "output_type": "stream",
          "text": [
            "Задание 3.1 Вакансий в базе: 49197\n",
            "Задание 3.2 Работодателей в базе: 23501\n",
            "Задание 3.3 Регионов в базе: 1362\n",
            "Задаине 3.4 Сфер деятельности в базе: 294\n"
          ]
        }
      ],
      "source": [
        "# выводы по предварительному анализу данных\n",
        "print(f'Задание 3.1 {result_3_1}')\n",
        "print(f'Задание 3.2 {result_3_2}')\n",
        "print(f'Задание 3.3 {result_3_3}')\n",
        "print(f'Задаине 3.4 {result_3_4}')\n"
      ]
    },
    {
      "cell_type": "markdown",
      "id": "8d62a9f3-f64e-4fe7-bdac-c4dffa16155e",
      "metadata": {
        "id": "8d62a9f3-f64e-4fe7-bdac-c4dffa16155e"
      },
      "source": [
        "# Юнит 4. Детальный анализ вакансий"
      ]
    },
    {
      "cell_type": "markdown",
      "id": "93053d3d-b284-481a-9cf7-012d7014c0e0",
      "metadata": {
        "id": "93053d3d-b284-481a-9cf7-012d7014c0e0"
      },
      "source": [
        "1. Напишите запрос, который позволит узнать, сколько (cnt) вакансий в каждом регионе (area).\n",
        "Отсортируйте по количеству вакансий в порядке убывания."
      ]
    },
    {
      "cell_type": "code",
      "execution_count": 190,
      "id": "3f069da6-fdc9-4ae7-b514-fafe2675efd3",
      "metadata": {
        "id": "3f069da6-fdc9-4ae7-b514-fafe2675efd3"
      },
      "outputs": [],
      "source": [
        "# текст запроса\n",
        "query = f'''SELECT a.name as area,\n",
        "            COUNT(v.name) as cnt\n",
        "            FROM public.vacancies AS v\n",
        "            JOIN\n",
        "            public.areas AS a ON a.id=v.area_id\n",
        "            GROUP BY a.name\n",
        "            ORDER BY 2 DESC\n",
        "            '''"
      ]
    },
    {
      "cell_type": "code",
      "execution_count": 191,
      "id": "P7QL86hrjhRJ",
      "metadata": {
        "id": "P7QL86hrjhRJ"
      },
      "outputs": [],
      "source": [
        "# результат запроса\n",
        "result_4_1 = DBObj(query=query).to_table(columns=[\"area\", \"cnt\"])\n"
      ]
    },
    {
      "cell_type": "markdown",
      "id": "4266f0b6-1646-492a-88b4-2f6a46502135",
      "metadata": {
        "id": "4266f0b6-1646-492a-88b4-2f6a46502135"
      },
      "source": [
        "2. Напишите запрос, чтобы определить у какого количества вакансий заполнено хотя бы одно из двух полей с зарплатой."
      ]
    },
    {
      "cell_type": "code",
      "execution_count": 192,
      "id": "0c44b350-72eb-4d65-8b54-a1fc449ba9fd",
      "metadata": {
        "id": "0c44b350-72eb-4d65-8b54-a1fc449ba9fd"
      },
      "outputs": [],
      "source": [
        "# текст запроса\n",
        "query = f'''SELECT COUNT(*)\n",
        "            FROM public.vacancies AS v\n",
        "            WHERE v.salary_from IS NOT NULL OR v.salary_to IS NOT NULL\n",
        "            '''"
      ]
    },
    {
      "cell_type": "code",
      "execution_count": 193,
      "id": "rhvwaMDkoWTi",
      "metadata": {
        "id": "rhvwaMDkoWTi"
      },
      "outputs": [],
      "source": [
        "# результат запроса\n",
        "result_4_2 = f'Вакансии с хотя бы одним из двух полей вилки ЗП: {DBObj(query=query).to_string()}'\n"
      ]
    },
    {
      "cell_type": "markdown",
      "id": "635c4d5d-f323-4c66-b428-50a088120aa0",
      "metadata": {
        "id": "635c4d5d-f323-4c66-b428-50a088120aa0"
      },
      "source": [
        "3. Найдите средние значения для нижней и верхней границы зарплатной вилки. Округлите значения до целого."
      ]
    },
    {
      "cell_type": "code",
      "execution_count": 194,
      "id": "603cdbe4-0ec3-4106-8eaf-c73fcdd29165",
      "metadata": {
        "id": "603cdbe4-0ec3-4106-8eaf-c73fcdd29165"
      },
      "outputs": [],
      "source": [
        "# текст запроса\n",
        "query = f'''SELECT ROUND(AVG(v.salary_from)),\n",
        "                   ROUND(AVG(v.salary_to))\n",
        "            FROM public.vacancies AS v\n",
        "            '''"
      ]
    },
    {
      "cell_type": "code",
      "execution_count": 195,
      "id": "pswpAb66ovZZ",
      "metadata": {
        "id": "pswpAb66ovZZ"
      },
      "outputs": [],
      "source": [
        "# результат запроса\n",
        "response = DBObj(query=query).to_rows()\n",
        "result_4_3_1 = int(response[0][0])\n",
        "result_4_3_2 = int(response[0][1])"
      ]
    },
    {
      "cell_type": "markdown",
      "id": "f3fdaec9-5fd3-4260-9cf5-1d7406b628a5",
      "metadata": {
        "id": "f3fdaec9-5fd3-4260-9cf5-1d7406b628a5"
      },
      "source": [
        "4. Напишите запрос, который выведет количество вакансий для каждого сочетания типа рабочего графика (schedule) и типа трудоустройства (employment), используемого в вакансиях. Результат отсортируйте по убыванию количества.\n"
      ]
    },
    {
      "cell_type": "code",
      "execution_count": 196,
      "id": "1ea710ec-871b-431e-9462-c7d0fd87011b",
      "metadata": {
        "id": "1ea710ec-871b-431e-9462-c7d0fd87011b"
      },
      "outputs": [],
      "source": [
        "# текст запроса\n",
        "query = f'''SELECT v.schedule AS schedule,\n",
        "                   v.employment AS employment,\n",
        "                   COUNT(*)\n",
        "            FROM public.vacancies AS v\n",
        "            GROUP BY 1,2\n",
        "            ORDER BY 3 DESC\n",
        "            '''"
      ]
    },
    {
      "cell_type": "code",
      "execution_count": 197,
      "id": "lGUVqavdo4JQ",
      "metadata": {
        "id": "lGUVqavdo4JQ"
      },
      "outputs": [],
      "source": [
        "# результат запроса\n",
        "result_4_4 = DBObj(query=query).to_table(columns=[\"schedule\", \"employment\", \"qty\"])"
      ]
    },
    {
      "cell_type": "markdown",
      "id": "0136ffee-0ead-4a6b-b608-61d1c753a438",
      "metadata": {
        "id": "0136ffee-0ead-4a6b-b608-61d1c753a438"
      },
      "source": [
        "5. Напишите запрос, выводящий значения поля Требуемый опыт работы (experience) в порядке возрастания количества вакансий, в которых указан данный вариант опыта. "
      ]
    },
    {
      "cell_type": "code",
      "execution_count": 198,
      "id": "5b3a8e79-f7ab-4008-b767-12aea3a205ea",
      "metadata": {
        "id": "5b3a8e79-f7ab-4008-b767-12aea3a205ea"
      },
      "outputs": [],
      "source": [
        "# текст запроса\n",
        "query = f'''SELECT v.experience,\n",
        "            COUNT(*)\n",
        "            FROM public.vacancies AS v\n",
        "            GROUP BY 1\n",
        "            ORDER BY 2 ASC\n",
        "            '''"
      ]
    },
    {
      "cell_type": "code",
      "execution_count": 199,
      "id": "3Is64Y-hpDpq",
      "metadata": {
        "id": "3Is64Y-hpDpq"
      },
      "outputs": [],
      "source": [
        "# результат запроса\n",
        "result_4_5 = DBObj(query=query).to_table(columns=[\"experience\", \"qty\"])\n"
      ]
    },
    {
      "cell_type": "markdown",
      "id": "oq2b7n1QpIka",
      "metadata": {
        "id": "oq2b7n1QpIka"
      },
      "source": [
        "***"
      ]
    },
    {
      "cell_type": "code",
      "execution_count": 200,
      "id": "e91f87ed-e25c-4f96-9f92-b642e8c0b4fa",
      "metadata": {
        "id": "e91f87ed-e25c-4f96-9f92-b642e8c0b4fa"
      },
      "outputs": [
        {
          "name": "stdout",
          "output_type": "stream",
          "text": [
            "Задание 4.1. Количество вакансий в каждом регионе:\n"
          ]
        },
        {
          "data": {
            "text/html": [
              "<div>\n",
              "<style scoped>\n",
              "    .dataframe tbody tr th:only-of-type {\n",
              "        vertical-align: middle;\n",
              "    }\n",
              "\n",
              "    .dataframe tbody tr th {\n",
              "        vertical-align: top;\n",
              "    }\n",
              "\n",
              "    .dataframe thead th {\n",
              "        text-align: right;\n",
              "    }\n",
              "</style>\n",
              "<table border=\"1\" class=\"dataframe\">\n",
              "  <thead>\n",
              "    <tr style=\"text-align: right;\">\n",
              "      <th></th>\n",
              "      <th>area</th>\n",
              "      <th>cnt</th>\n",
              "    </tr>\n",
              "  </thead>\n",
              "  <tbody>\n",
              "    <tr>\n",
              "      <th>0</th>\n",
              "      <td>Москва</td>\n",
              "      <td>5333</td>\n",
              "    </tr>\n",
              "    <tr>\n",
              "      <th>1</th>\n",
              "      <td>Санкт-Петербург</td>\n",
              "      <td>2851</td>\n",
              "    </tr>\n",
              "    <tr>\n",
              "      <th>2</th>\n",
              "      <td>Минск</td>\n",
              "      <td>2112</td>\n",
              "    </tr>\n",
              "    <tr>\n",
              "      <th>3</th>\n",
              "      <td>Новосибирск</td>\n",
              "      <td>2006</td>\n",
              "    </tr>\n",
              "    <tr>\n",
              "      <th>4</th>\n",
              "      <td>Алматы</td>\n",
              "      <td>1892</td>\n",
              "    </tr>\n",
              "    <tr>\n",
              "      <th>...</th>\n",
              "      <td>...</td>\n",
              "      <td>...</td>\n",
              "    </tr>\n",
              "    <tr>\n",
              "      <th>764</th>\n",
              "      <td>Тарко-Сале</td>\n",
              "      <td>1</td>\n",
              "    </tr>\n",
              "    <tr>\n",
              "      <th>765</th>\n",
              "      <td>Новоаннинский</td>\n",
              "      <td>1</td>\n",
              "    </tr>\n",
              "    <tr>\n",
              "      <th>766</th>\n",
              "      <td>Бирск</td>\n",
              "      <td>1</td>\n",
              "    </tr>\n",
              "    <tr>\n",
              "      <th>767</th>\n",
              "      <td>Сасово</td>\n",
              "      <td>1</td>\n",
              "    </tr>\n",
              "    <tr>\n",
              "      <th>768</th>\n",
              "      <td>Анна</td>\n",
              "      <td>1</td>\n",
              "    </tr>\n",
              "  </tbody>\n",
              "</table>\n",
              "<p>769 rows × 2 columns</p>\n",
              "</div>"
            ],
            "text/plain": [
              "                area   cnt\n",
              "0             Москва  5333\n",
              "1    Санкт-Петербург  2851\n",
              "2              Минск  2112\n",
              "3        Новосибирск  2006\n",
              "4             Алматы  1892\n",
              "..               ...   ...\n",
              "764       Тарко-Сале     1\n",
              "765    Новоаннинский     1\n",
              "766            Бирск     1\n",
              "767           Сасово     1\n",
              "768             Анна     1\n",
              "\n",
              "[769 rows x 2 columns]"
            ]
          },
          "metadata": {},
          "output_type": "display_data"
        },
        {
          "name": "stdout",
          "output_type": "stream",
          "text": [
            "Задание 4.2. Количесво вакансий с определенныйм диапазоном ЗП: Вакансии с хотя бы одним из двух полей вилки ЗП: 24073.\n",
            "Задание 4.3. Cредние значения для нижней и верхней границы зарплатной вилки: 71065 руб - 110537 руб.\n",
            "Задание 4.4. Количество вакансий для каждого сочетания типа рабочего графика (schedule) и типа трудоустройства (employment):\n"
          ]
        },
        {
          "data": {
            "text/html": [
              "<div>\n",
              "<style scoped>\n",
              "    .dataframe tbody tr th:only-of-type {\n",
              "        vertical-align: middle;\n",
              "    }\n",
              "\n",
              "    .dataframe tbody tr th {\n",
              "        vertical-align: top;\n",
              "    }\n",
              "\n",
              "    .dataframe thead th {\n",
              "        text-align: right;\n",
              "    }\n",
              "</style>\n",
              "<table border=\"1\" class=\"dataframe\">\n",
              "  <thead>\n",
              "    <tr style=\"text-align: right;\">\n",
              "      <th></th>\n",
              "      <th>schedule</th>\n",
              "      <th>employment</th>\n",
              "      <th>qty</th>\n",
              "    </tr>\n",
              "  </thead>\n",
              "  <tbody>\n",
              "    <tr>\n",
              "      <th>0</th>\n",
              "      <td>Полный день</td>\n",
              "      <td>Полная занятость</td>\n",
              "      <td>35367</td>\n",
              "    </tr>\n",
              "    <tr>\n",
              "      <th>1</th>\n",
              "      <td>Удаленная работа</td>\n",
              "      <td>Полная занятость</td>\n",
              "      <td>7802</td>\n",
              "    </tr>\n",
              "    <tr>\n",
              "      <th>2</th>\n",
              "      <td>Гибкий график</td>\n",
              "      <td>Полная занятость</td>\n",
              "      <td>1593</td>\n",
              "    </tr>\n",
              "    <tr>\n",
              "      <th>3</th>\n",
              "      <td>Удаленная работа</td>\n",
              "      <td>Частичная занятость</td>\n",
              "      <td>1312</td>\n",
              "    </tr>\n",
              "    <tr>\n",
              "      <th>4</th>\n",
              "      <td>Сменный график</td>\n",
              "      <td>Полная занятость</td>\n",
              "      <td>940</td>\n",
              "    </tr>\n",
              "    <tr>\n",
              "      <th>5</th>\n",
              "      <td>Полный день</td>\n",
              "      <td>Стажировка</td>\n",
              "      <td>569</td>\n",
              "    </tr>\n",
              "    <tr>\n",
              "      <th>6</th>\n",
              "      <td>Вахтовый метод</td>\n",
              "      <td>Полная занятость</td>\n",
              "      <td>367</td>\n",
              "    </tr>\n",
              "    <tr>\n",
              "      <th>7</th>\n",
              "      <td>Полный день</td>\n",
              "      <td>Частичная занятость</td>\n",
              "      <td>347</td>\n",
              "    </tr>\n",
              "    <tr>\n",
              "      <th>8</th>\n",
              "      <td>Гибкий график</td>\n",
              "      <td>Частичная занятость</td>\n",
              "      <td>312</td>\n",
              "    </tr>\n",
              "    <tr>\n",
              "      <th>9</th>\n",
              "      <td>Полный день</td>\n",
              "      <td>Проектная работа</td>\n",
              "      <td>141</td>\n",
              "    </tr>\n",
              "    <tr>\n",
              "      <th>10</th>\n",
              "      <td>Удаленная работа</td>\n",
              "      <td>Проектная работа</td>\n",
              "      <td>133</td>\n",
              "    </tr>\n",
              "    <tr>\n",
              "      <th>11</th>\n",
              "      <td>Гибкий график</td>\n",
              "      <td>Стажировка</td>\n",
              "      <td>116</td>\n",
              "    </tr>\n",
              "    <tr>\n",
              "      <th>12</th>\n",
              "      <td>Сменный график</td>\n",
              "      <td>Частичная занятость</td>\n",
              "      <td>101</td>\n",
              "    </tr>\n",
              "    <tr>\n",
              "      <th>13</th>\n",
              "      <td>Удаленная работа</td>\n",
              "      <td>Стажировка</td>\n",
              "      <td>64</td>\n",
              "    </tr>\n",
              "    <tr>\n",
              "      <th>14</th>\n",
              "      <td>Гибкий график</td>\n",
              "      <td>Проектная работа</td>\n",
              "      <td>18</td>\n",
              "    </tr>\n",
              "    <tr>\n",
              "      <th>15</th>\n",
              "      <td>Сменный график</td>\n",
              "      <td>Стажировка</td>\n",
              "      <td>12</td>\n",
              "    </tr>\n",
              "    <tr>\n",
              "      <th>16</th>\n",
              "      <td>Вахтовый метод</td>\n",
              "      <td>Проектная работа</td>\n",
              "      <td>2</td>\n",
              "    </tr>\n",
              "    <tr>\n",
              "      <th>17</th>\n",
              "      <td>Сменный график</td>\n",
              "      <td>Проектная работа</td>\n",
              "      <td>1</td>\n",
              "    </tr>\n",
              "  </tbody>\n",
              "</table>\n",
              "</div>"
            ],
            "text/plain": [
              "            schedule           employment    qty\n",
              "0        Полный день     Полная занятость  35367\n",
              "1   Удаленная работа     Полная занятость   7802\n",
              "2      Гибкий график     Полная занятость   1593\n",
              "3   Удаленная работа  Частичная занятость   1312\n",
              "4     Сменный график     Полная занятость    940\n",
              "5        Полный день           Стажировка    569\n",
              "6     Вахтовый метод     Полная занятость    367\n",
              "7        Полный день  Частичная занятость    347\n",
              "8      Гибкий график  Частичная занятость    312\n",
              "9        Полный день     Проектная работа    141\n",
              "10  Удаленная работа     Проектная работа    133\n",
              "11     Гибкий график           Стажировка    116\n",
              "12    Сменный график  Частичная занятость    101\n",
              "13  Удаленная работа           Стажировка     64\n",
              "14     Гибкий график     Проектная работа     18\n",
              "15    Сменный график           Стажировка     12\n",
              "16    Вахтовый метод     Проектная работа      2\n",
              "17    Сменный график     Проектная работа      1"
            ]
          },
          "metadata": {},
          "output_type": "display_data"
        },
        {
          "name": "stdout",
          "output_type": "stream",
          "text": [
            "Задание 4.5. Количество вакансий с требуемым опытом работы (experience) по группам:\n"
          ]
        },
        {
          "data": {
            "text/html": [
              "<div>\n",
              "<style scoped>\n",
              "    .dataframe tbody tr th:only-of-type {\n",
              "        vertical-align: middle;\n",
              "    }\n",
              "\n",
              "    .dataframe tbody tr th {\n",
              "        vertical-align: top;\n",
              "    }\n",
              "\n",
              "    .dataframe thead th {\n",
              "        text-align: right;\n",
              "    }\n",
              "</style>\n",
              "<table border=\"1\" class=\"dataframe\">\n",
              "  <thead>\n",
              "    <tr style=\"text-align: right;\">\n",
              "      <th></th>\n",
              "      <th>experience</th>\n",
              "      <th>qty</th>\n",
              "    </tr>\n",
              "  </thead>\n",
              "  <tbody>\n",
              "    <tr>\n",
              "      <th>0</th>\n",
              "      <td>Более 6 лет</td>\n",
              "      <td>1337</td>\n",
              "    </tr>\n",
              "    <tr>\n",
              "      <th>1</th>\n",
              "      <td>Нет опыта</td>\n",
              "      <td>7197</td>\n",
              "    </tr>\n",
              "    <tr>\n",
              "      <th>2</th>\n",
              "      <td>От 3 до 6 лет</td>\n",
              "      <td>14511</td>\n",
              "    </tr>\n",
              "    <tr>\n",
              "      <th>3</th>\n",
              "      <td>От 1 года до 3 лет</td>\n",
              "      <td>26152</td>\n",
              "    </tr>\n",
              "  </tbody>\n",
              "</table>\n",
              "</div>"
            ],
            "text/plain": [
              "           experience    qty\n",
              "0         Более 6 лет   1337\n",
              "1           Нет опыта   7197\n",
              "2       От 3 до 6 лет  14511\n",
              "3  От 1 года до 3 лет  26152"
            ]
          },
          "metadata": {},
          "output_type": "display_data"
        }
      ],
      "source": [
        "# выводы по детальному анализу вакансий\n",
        "print(\"Задание 4.1. Количество вакансий в каждом регионе:\")\n",
        "display(result_4_1)\n",
        "print(f\"Задание 4.2. Количесво вакансий с определенныйм диапазоном ЗП: {result_4_2}.\")\n",
        "print(f'Задание 4.3. Cредние значения для нижней и верхней границы зарплатной вилки: {result_4_3_1} руб - {result_4_3_2} руб.')\n",
        "print(\"Задание 4.4. Количество вакансий для каждого сочетания типа рабочего графика (schedule) и типа трудоустройства (employment):\")\n",
        "display(result_4_4)\n",
        "print(\"Задание 4.5. Количество вакансий с требуемым опытом работы (experience) по группам:\")\n",
        "display(result_4_5)\n"
      ]
    },
    {
      "cell_type": "markdown",
      "id": "7ea20ab6-04a7-40a0-adec-443a0e5a42c3",
      "metadata": {
        "id": "7ea20ab6-04a7-40a0-adec-443a0e5a42c3"
      },
      "source": [
        "# Юнит 5. Анализ работодателей"
      ]
    },
    {
      "cell_type": "markdown",
      "id": "968aed80-74ef-4ffb-b5bf-c65b84e9caea",
      "metadata": {
        "id": "968aed80-74ef-4ffb-b5bf-c65b84e9caea"
      },
      "source": [
        "1. Напишите запрос, который позволит узнать, какие работодатели находятся на первом и пятом месте по количеству вакансий."
      ]
    },
    {
      "cell_type": "code",
      "execution_count": 201,
      "id": "f2d62796-d400-4ec1-a675-88112739a50e",
      "metadata": {
        "id": "f2d62796-d400-4ec1-a675-88112739a50e"
      },
      "outputs": [],
      "source": [
        "# текст запроса\n",
        "query = f'''SELECT e.name as emp,\n",
        "            COUNT(v.id) as qty\n",
        "            FROM public.vacancies AS v\n",
        "            JOIN public.employers AS e ON e.id=v.employer_id\n",
        "            GROUP BY e.name\n",
        "            ORDER BY 2 DESC\n",
        "            LIMIT 5\n",
        "            '''\n",
        "df = DBObj(query=query).to_table()"
      ]
    },
    {
      "cell_type": "code",
      "execution_count": 202,
      "id": "64tOMkAxqkQk",
      "metadata": {
        "id": "64tOMkAxqkQk"
      },
      "outputs": [],
      "source": [
        "# результат запроса\n",
        "result_5_1_1 = df.iloc[0][0]\n",
        "result_5_1_2 = df.iloc[4][0]"
      ]
    },
    {
      "cell_type": "markdown",
      "id": "68377cfc-b378-43dc-ab7d-1195abf2c515",
      "metadata": {
        "id": "68377cfc-b378-43dc-ab7d-1195abf2c515"
      },
      "source": [
        "2. Напишите запрос, который для каждого региона выведет количество работодателей и вакансий в нём.\n",
        "Среди регионов, в которых нет вакансий, найдите тот, в котором наибольшее количество работодателей.\n"
      ]
    },
    {
      "cell_type": "code",
      "execution_count": 203,
      "id": "dd7df27a-e3e8-412e-a21a-5d389b71e891",
      "metadata": {
        "id": "dd7df27a-e3e8-412e-a21a-5d389b71e891"
      },
      "outputs": [],
      "source": [
        "# текст запроса\n",
        "query = f'''WITH x (area_id, area, emp_qty) AS (SELECT \n",
        "                                                    a.id, \n",
        "                                                    a.name,\n",
        "                                                    COUNT(emp.id)\n",
        "            FROM public.areas AS a\n",
        "            LEFT JOIN  public.employers AS emp ON a.id=emp.area\n",
        "            GROUP BY a.id)\n",
        "            \n",
        "            SELECT temp.area_id,\n",
        "                   temp.area,\n",
        "                   temp.emp_qty,\n",
        "                   COUNT(vac.id)\n",
        "            FROM x as temp\n",
        "            LEFT JOIN public.vacancies AS vac ON vac.area_id=temp.area_id\n",
        "            GROUP BY temp.area_id, temp.area,temp.emp_qty\n",
        "            ORDER BY COUNT(vac.id) ASC, temp.emp_qty DESC\n",
        "         '''"
      ]
    },
    {
      "cell_type": "code",
      "execution_count": 204,
      "id": "x1ikWbydrbf6",
      "metadata": {
        "id": "x1ikWbydrbf6"
      },
      "outputs": [],
      "source": [
        "# результат запроса\n",
        "df = DBObj(query=query).to_table()\n",
        "result_5_2 = df.iloc[0][1]"
      ]
    },
    {
      "cell_type": "markdown",
      "id": "f2fe0acb-ab1a-4e15-9326-2560e22d73c1",
      "metadata": {
        "id": "f2fe0acb-ab1a-4e15-9326-2560e22d73c1"
      },
      "source": [
        "3. Для каждого работодателя посчитайте количество регионов, в которых он публикует свои вакансии. Отсортируйте результат по убыванию количества.\n"
      ]
    },
    {
      "cell_type": "code",
      "execution_count": 205,
      "id": "5f295080",
      "metadata": {},
      "outputs": [],
      "source": [
        "# текст запроса\n",
        "query = f'''WITH x (area_id, emp_id)\n",
        "            AS (SELECT DISTINCT vac.area_id,\n",
        "                    emp.id\n",
        "                FROM public.employers AS emp\n",
        "                LEFT JOIN public.vacancies AS vac ON vac.employer_id=emp.id)\n",
        "            SELECT\n",
        "                    emp2.name,\n",
        "                    COUNT(area_id)\n",
        "            FROM x\n",
        "            JOIN public.employers AS emp2 ON x.emp_id=emp2.id\n",
        "            GROUP BY emp2.name\n",
        "            ORDER BY 2 DESC\n",
        "            '''"
      ]
    },
    {
      "cell_type": "code",
      "execution_count": 206,
      "id": "1EIvX3HasH4F",
      "metadata": {
        "id": "1EIvX3HasH4F"
      },
      "outputs": [],
      "source": [
        "# результат запроса\n",
        "result_5_3 = DBObj(query=query).to_table(columns=['работодатель', 'количество регионов с вакансиями'])"
      ]
    },
    {
      "cell_type": "markdown",
      "id": "eab2206d-d95b-468b-8e5f-34381abf0ce7",
      "metadata": {
        "id": "eab2206d-d95b-468b-8e5f-34381abf0ce7"
      },
      "source": [
        "4. Напишите запрос для подсчёта количества работодателей, у которых не указана сфера деятельности. "
      ]
    },
    {
      "cell_type": "code",
      "execution_count": 207,
      "id": "80defb23-bfb1-4a18-8be6-bf36aa7165d5",
      "metadata": {
        "id": "80defb23-bfb1-4a18-8be6-bf36aa7165d5"
      },
      "outputs": [],
      "source": [
        "# текст запроса\n",
        "query = f'''SELECT COUNT(*)\n",
        "            FROM public.employers AS emp\n",
        "            LEFT JOIN public.employers_industries AS ind ON ind.employer_id=emp.id\n",
        "            WHERE ind.industry_id IS NULL\n",
        "         '''"
      ]
    },
    {
      "cell_type": "code",
      "execution_count": 208,
      "id": "Dp_yCx6ysQSu",
      "metadata": {
        "id": "Dp_yCx6ysQSu"
      },
      "outputs": [],
      "source": [
        "# результат запроса\n",
        "result_5_4 = DBObj(query=query).to_string()"
      ]
    },
    {
      "cell_type": "markdown",
      "id": "0112af31-f6b0-4e3b-82ab-71296e752e5e",
      "metadata": {
        "id": "0112af31-f6b0-4e3b-82ab-71296e752e5e"
      },
      "source": [
        "5. Напишите запрос, чтобы узнать название компании, находящейся на третьем месте в алфавитном списке (по названию) компаний, у которых указано четыре сферы деятельности. "
      ]
    },
    {
      "cell_type": "code",
      "execution_count": 209,
      "id": "973b0cfc-a972-470a-8b4a-68744ef220c4",
      "metadata": {
        "id": "973b0cfc-a972-470a-8b4a-68744ef220c4"
      },
      "outputs": [],
      "source": [
        "# текст запроса\n",
        "query = f'''WITH x (emp, qty) AS (SELECT emp.name,\n",
        "                                  COUNT(ind.industry_id)\n",
        "                                  FROM public.employers AS emp\n",
        "                                  LEFT JOIN public.employers_industries AS ind ON ind.employer_id=emp.id\n",
        "                                  GROUP BY (emp.name))\n",
        "            SELECT emp, qty\n",
        "            FROM x\n",
        "            WHERE x.qty=4\n",
        "            ORDER BY emp\n",
        "            OFFSET 2\n",
        "            LIMIT 1\n",
        "         '''"
      ]
    },
    {
      "cell_type": "code",
      "execution_count": 210,
      "id": "xsPtpp8EsaED",
      "metadata": {
        "id": "xsPtpp8EsaED"
      },
      "outputs": [],
      "source": [
        "# результат запроса\n",
        "result_5_5 = DBObj(query=query).to_string()"
      ]
    },
    {
      "cell_type": "markdown",
      "id": "3bfcfdaf-755d-4d2b-8ed8-326201dc07ab",
      "metadata": {
        "id": "3bfcfdaf-755d-4d2b-8ed8-326201dc07ab"
      },
      "source": [
        "6. С помощью запроса выясните, у какого количества работодателей в качестве сферы деятельности указана Разработка программного обеспечения.\n"
      ]
    },
    {
      "cell_type": "code",
      "execution_count": 211,
      "id": "ad3f270f-2991-47eb-929b-e8f88a55b0d1",
      "metadata": {
        "id": "ad3f270f-2991-47eb-929b-e8f88a55b0d1"
      },
      "outputs": [],
      "source": [
        "# текст запроса\n",
        "query = f'''SELECT COUNT(*)\n",
        "            FROM public.employers AS emp\n",
        "            LEFT JOIN public.employers_industries AS ind ON ind.employer_id=emp.id\n",
        "            JOIN public.industries AS ind_names ON ind_names.id=ind.industry_id\n",
        "            WHERE ind_names.name='Разработка программного обеспечения'\n",
        "         '''"
      ]
    },
    {
      "cell_type": "code",
      "execution_count": 212,
      "id": "H72qxWM0shPR",
      "metadata": {
        "id": "H72qxWM0shPR"
      },
      "outputs": [],
      "source": [
        "# результат запроса\n",
        "result_5_6 = DBObj(query=query).to_string()"
      ]
    },
    {
      "cell_type": "markdown",
      "id": "7b02bb86-0546-40fb-94a4-242f050a5c57",
      "metadata": {
        "id": "7b02bb86-0546-40fb-94a4-242f050a5c57"
      },
      "source": [
        "7. Для компании «Яндекс» выведите список регионов-миллионников, в которых представлены вакансии компании, вместе с количеством вакансий в этих регионах. Также добавьте строку Total с общим количеством вакансий компании. Результат отсортируйте по возрастанию количества.\n",
        "\n",
        "Список городов-милионников надо взять [отсюда](https://ru.wikipedia.org/wiki/%D0%93%D0%BE%D1%80%D0%BE%D0%B4%D0%B0-%D0%BC%D0%B8%D0%BB%D0%BB%D0%B8%D0%BE%D0%BD%D0%B5%D1%80%D1%8B_%D0%A0%D0%BE%D1%81%D1%81%D0%B8%D0%B8). \n",
        "\n",
        "Если возникнут трудности с этим задание посмотрите материалы модуля  PYTHON-17. Как получать данные из веб-источников и API. "
      ]
    },
    {
      "cell_type": "code",
      "execution_count": 213,
      "id": "ZdfrL6gIs1Pn",
      "metadata": {
        "id": "ZdfrL6gIs1Pn"
      },
      "outputs": [],
      "source": [
        "# код для получения списка городов-милионников\n",
        "from bs4 import BeautifulSoup \n",
        "import requests \n",
        "\n",
        "target_page = 'https://ru.wikipedia.org/wiki/Города-миллионеры_России'\n",
        "\n",
        "# Выполняем GET-запрос\n",
        "response = requests.get(target_page)\n",
        "# Получим html код\n",
        "html_doc=response.text\n",
        "soup = BeautifulSoup(html_doc, 'html.parser')\n",
        "#Первая же таблица является искомым источником данных\n",
        "\n",
        "table = soup.find('table')\n",
        "table_body = table.find('tbody')\n",
        "rows = table_body.find_all('tr')\n",
        "# Создадим пустой список выходных данных\n",
        "data = list()\n",
        "# Получим данные в строках\n",
        "for item in rows:\n",
        "    row = item.find_all('td')\n",
        "    row_data = list()\n",
        "    #Получим данные из ячеек\n",
        "    for cell in row:\n",
        "        row_data.append(cell.text)\n",
        "    #Если строка данных не пустая добавим их в выходной набор данных\n",
        "    if row_data:\n",
        "        # Попутно преобразуем данные в пригодный формат\n",
        "        row_data[2] = int(row_data[2].replace(' ',''))*1000\n",
        "        data.append(row_data[1:3])\n",
        "\n",
        "# Проверим что получилось\n",
        "city_data = pd.DataFrame(data, columns=['city', 'population'])\n",
        "#display(city_data)\n",
        "# Конвертируем список в строку для использования в SQL запросе\n",
        "city_list_str = tuple(list(city_data['city']))"
      ]
    },
    {
      "cell_type": "code",
      "execution_count": 214,
      "id": "5a0e32a4-e68a-4365-8a39-2fe24c542c36",
      "metadata": {
        "id": "5a0e32a4-e68a-4365-8a39-2fe24c542c36"
      },
      "outputs": [],
      "source": [
        "# текст запроса\n",
        "query = f'''WITH x (ar, qty) AS (SELECT ar.name,\n",
        "                                 COUNT(ar.name)\n",
        "                                 FROM public.employers AS emp\n",
        "                                 JOIN public.vacancies AS vac ON emp.id=vac.employer_id\n",
        "                                 JOIN public.areas AS ar ON ar.id=vac.area_Id\n",
        "                                 WHERE ar.name IN {city_list_str} AND emp.name='Яндекс'\n",
        "                                 GROUP BY ar.name\n",
        "                                 ORDER BY COUNT(ar.name))\n",
        "            SELECT x.ar,\n",
        "                   x.qty\n",
        "            FROM x\n",
        "                                 \n",
        "            UNION\n",
        "            \n",
        "            SELECT 'Total',\n",
        "                    SUM(x.qty)\n",
        "            FROM x\n",
        "            ORDER BY 2\n",
        "         '''"
      ]
    },
    {
      "cell_type": "code",
      "execution_count": 215,
      "id": "ttPhiO1rsvPq",
      "metadata": {
        "id": "ttPhiO1rsvPq"
      },
      "outputs": [],
      "source": [
        "# результат запроса\n",
        "result_5_7 = DBObj(query=query).to_table(columns=['city','qty'])"
      ]
    },
    {
      "cell_type": "markdown",
      "id": "04966e40-3bc3-4dc8-9ba2-e80580ce3abc",
      "metadata": {
        "id": "04966e40-3bc3-4dc8-9ba2-e80580ce3abc"
      },
      "source": [
        "***"
      ]
    },
    {
      "cell_type": "code",
      "execution_count": 216,
      "id": "aGGyER-yt4SR",
      "metadata": {
        "id": "aGGyER-yt4SR"
      },
      "outputs": [
        {
          "name": "stdout",
          "output_type": "stream",
          "text": [
            "Задание 5.1. Работодатели на первом и пятом месте по количеству вакансий: Яндекс, Газпром нефть\n",
            "Задаине 5.2. Регион в котором нет вакансий, с наибольшим количеством работодателей: Россия\n",
            "Задание 5.3. Количество регионов, в которых работодатель публикует свои вакансии:\n"
          ]
        },
        {
          "data": {
            "text/html": [
              "<div>\n",
              "<style scoped>\n",
              "    .dataframe tbody tr th:only-of-type {\n",
              "        vertical-align: middle;\n",
              "    }\n",
              "\n",
              "    .dataframe tbody tr th {\n",
              "        vertical-align: top;\n",
              "    }\n",
              "\n",
              "    .dataframe thead th {\n",
              "        text-align: right;\n",
              "    }\n",
              "</style>\n",
              "<table border=\"1\" class=\"dataframe\">\n",
              "  <thead>\n",
              "    <tr style=\"text-align: right;\">\n",
              "      <th></th>\n",
              "      <th>работодатель</th>\n",
              "      <th>количество регионов с вакансиями</th>\n",
              "    </tr>\n",
              "  </thead>\n",
              "  <tbody>\n",
              "    <tr>\n",
              "      <th>0</th>\n",
              "      <td>Яндекс</td>\n",
              "      <td>181</td>\n",
              "    </tr>\n",
              "    <tr>\n",
              "      <th>1</th>\n",
              "      <td>Ростелеком</td>\n",
              "      <td>152</td>\n",
              "    </tr>\n",
              "    <tr>\n",
              "      <th>2</th>\n",
              "      <td>Спецремонт</td>\n",
              "      <td>116</td>\n",
              "    </tr>\n",
              "    <tr>\n",
              "      <th>3</th>\n",
              "      <td>Поляков Денис Иванович</td>\n",
              "      <td>88</td>\n",
              "    </tr>\n",
              "    <tr>\n",
              "      <th>4</th>\n",
              "      <td>ООО ЕФИН</td>\n",
              "      <td>71</td>\n",
              "    </tr>\n",
              "    <tr>\n",
              "      <th>5</th>\n",
              "      <td>Совкомбанк</td>\n",
              "      <td>63</td>\n",
              "    </tr>\n",
              "    <tr>\n",
              "      <th>6</th>\n",
              "      <td>МТС</td>\n",
              "      <td>55</td>\n",
              "    </tr>\n",
              "    <tr>\n",
              "      <th>7</th>\n",
              "      <td>ЭФКО, Управляющая компания</td>\n",
              "      <td>49</td>\n",
              "    </tr>\n",
              "    <tr>\n",
              "      <th>8</th>\n",
              "      <td>КРОН</td>\n",
              "      <td>48</td>\n",
              "    </tr>\n",
              "    <tr>\n",
              "      <th>9</th>\n",
              "      <td>Почта России</td>\n",
              "      <td>48</td>\n",
              "    </tr>\n",
              "    <tr>\n",
              "      <th>10</th>\n",
              "      <td>MCORE</td>\n",
              "      <td>46</td>\n",
              "    </tr>\n",
              "  </tbody>\n",
              "</table>\n",
              "</div>"
            ],
            "text/plain": [
              "                  работодатель  количество регионов с вакансиями\n",
              "0                       Яндекс                               181\n",
              "1                   Ростелеком                               152\n",
              "2                   Спецремонт                               116\n",
              "3       Поляков Денис Иванович                                88\n",
              "4                    ООО ЕФИН                                 71\n",
              "5                   Совкомбанк                                63\n",
              "6                          МТС                                55\n",
              "7   ЭФКО, Управляющая компания                                49\n",
              "8                         КРОН                                48\n",
              "9                 Почта России                                48\n",
              "10                       MCORE                                46"
            ]
          },
          "metadata": {},
          "output_type": "display_data"
        },
        {
          "name": "stdout",
          "output_type": "stream",
          "text": [
            "Задание 5.4. Количество работодателей, у которых не указана сфера деятельности: 8419\n",
            "Задание 5.5. Компания, на 3 месте (по названию), имеющая четыре сферы деятельности: 2ГИС\n",
            "Задание 5.6. Количество работодателей в качестве сферы деятельности указана «Разработка программного обеспечения»: 3553\n",
            "Задание 5.7. Количество вакансий \"Яндекса\" в регионах\n"
          ]
        },
        {
          "data": {
            "text/html": [
              "<div>\n",
              "<style scoped>\n",
              "    .dataframe tbody tr th:only-of-type {\n",
              "        vertical-align: middle;\n",
              "    }\n",
              "\n",
              "    .dataframe tbody tr th {\n",
              "        vertical-align: top;\n",
              "    }\n",
              "\n",
              "    .dataframe thead th {\n",
              "        text-align: right;\n",
              "    }\n",
              "</style>\n",
              "<table border=\"1\" class=\"dataframe\">\n",
              "  <thead>\n",
              "    <tr style=\"text-align: right;\">\n",
              "      <th></th>\n",
              "      <th>city</th>\n",
              "      <th>qty</th>\n",
              "    </tr>\n",
              "  </thead>\n",
              "  <tbody>\n",
              "    <tr>\n",
              "      <th>0</th>\n",
              "      <td>Омск</td>\n",
              "      <td>21</td>\n",
              "    </tr>\n",
              "    <tr>\n",
              "      <th>1</th>\n",
              "      <td>Челябинск</td>\n",
              "      <td>22</td>\n",
              "    </tr>\n",
              "    <tr>\n",
              "      <th>2</th>\n",
              "      <td>Красноярск</td>\n",
              "      <td>23</td>\n",
              "    </tr>\n",
              "    <tr>\n",
              "      <th>3</th>\n",
              "      <td>Волгоград</td>\n",
              "      <td>24</td>\n",
              "    </tr>\n",
              "    <tr>\n",
              "      <th>4</th>\n",
              "      <td>Пермь</td>\n",
              "      <td>25</td>\n",
              "    </tr>\n",
              "    <tr>\n",
              "      <th>5</th>\n",
              "      <td>Казань</td>\n",
              "      <td>25</td>\n",
              "    </tr>\n",
              "    <tr>\n",
              "      <th>6</th>\n",
              "      <td>Ростов-на-Дону</td>\n",
              "      <td>25</td>\n",
              "    </tr>\n",
              "    <tr>\n",
              "      <th>7</th>\n",
              "      <td>Уфа</td>\n",
              "      <td>26</td>\n",
              "    </tr>\n",
              "    <tr>\n",
              "      <th>8</th>\n",
              "      <td>Самара</td>\n",
              "      <td>26</td>\n",
              "    </tr>\n",
              "    <tr>\n",
              "      <th>9</th>\n",
              "      <td>Краснодар</td>\n",
              "      <td>30</td>\n",
              "    </tr>\n",
              "    <tr>\n",
              "      <th>10</th>\n",
              "      <td>Воронеж</td>\n",
              "      <td>32</td>\n",
              "    </tr>\n",
              "    <tr>\n",
              "      <th>11</th>\n",
              "      <td>Новосибирск</td>\n",
              "      <td>35</td>\n",
              "    </tr>\n",
              "    <tr>\n",
              "      <th>12</th>\n",
              "      <td>Нижний Новгород</td>\n",
              "      <td>36</td>\n",
              "    </tr>\n",
              "    <tr>\n",
              "      <th>13</th>\n",
              "      <td>Екатеринбург</td>\n",
              "      <td>39</td>\n",
              "    </tr>\n",
              "    <tr>\n",
              "      <th>14</th>\n",
              "      <td>Санкт-Петербург</td>\n",
              "      <td>42</td>\n",
              "    </tr>\n",
              "    <tr>\n",
              "      <th>15</th>\n",
              "      <td>Москва</td>\n",
              "      <td>54</td>\n",
              "    </tr>\n",
              "    <tr>\n",
              "      <th>16</th>\n",
              "      <td>Total</td>\n",
              "      <td>485</td>\n",
              "    </tr>\n",
              "  </tbody>\n",
              "</table>\n",
              "</div>"
            ],
            "text/plain": [
              "               city  qty\n",
              "0              Омск   21\n",
              "1         Челябинск   22\n",
              "2        Красноярск   23\n",
              "3         Волгоград   24\n",
              "4             Пермь   25\n",
              "5            Казань   25\n",
              "6    Ростов-на-Дону   25\n",
              "7               Уфа   26\n",
              "8            Самара   26\n",
              "9         Краснодар   30\n",
              "10          Воронеж   32\n",
              "11      Новосибирск   35\n",
              "12  Нижний Новгород   36\n",
              "13     Екатеринбург   39\n",
              "14  Санкт-Петербург   42\n",
              "15           Москва   54\n",
              "16            Total  485"
            ]
          },
          "metadata": {},
          "output_type": "display_data"
        }
      ],
      "source": [
        "# выводы по анализу работодателей\n",
        "print(f'Задание 5.1. Работодатели на первом и пятом месте по количеству вакансий: {result_5_1_1}, {result_5_1_2}')\n",
        "print(f'Задаине 5.2. Регион в котором нет вакансий, с наибольшим количеством работодателей: {result_5_2}')\n",
        "print(f'Задание 5.3. Количество регионов, в которых работодатель публикует свои вакансии:')\n",
        "display(result_5_3.loc[:10])\n",
        "print(f'Задание 5.4. Количество работодателей, у которых не указана сфера деятельности: {result_5_4}')\n",
        "print(f'Задание 5.5. Компания, на 3 месте (по названию), имеющая четыре сферы деятельности: {result_5_5}')\n",
        "print(f'Задание 5.6. Количество работодателей в качестве сферы деятельности указана «Разработка программного обеспечения»: {result_5_6}')\n",
        "print(f'Задание 5.7. Количество вакансий \"Яндекса\" в регионах')\n",
        "display(result_5_7)"
      ]
    },
    {
      "cell_type": "markdown",
      "id": "b1ef156a-efcb-49ce-bb23-90763e7f35b2",
      "metadata": {
        "id": "b1ef156a-efcb-49ce-bb23-90763e7f35b2",
        "tags": []
      },
      "source": [
        "# Юнит 6. Предметный анализ"
      ]
    },
    {
      "cell_type": "markdown",
      "id": "b9cd50a0-992d-4988-8463-2b2b1c4629b4",
      "metadata": {
        "id": "b9cd50a0-992d-4988-8463-2b2b1c4629b4"
      },
      "source": [
        "1. Сколько вакансий имеет отношение к данным?\n",
        "\n",
        "Считаем, что вакансия имеет отношение к данным, если в её названии содержатся слова 'data' или 'данн'.\n",
        "\n",
        "*Подсказка: Обратите внимание, что названия вакансий могут быть написаны в любом регистре.* \n"
      ]
    },
    {
      "cell_type": "code",
      "execution_count": 217,
      "id": "54ab0e50-c0f1-47cc-a54b-bc5c8bc363f9",
      "metadata": {
        "id": "54ab0e50-c0f1-47cc-a54b-bc5c8bc363f9"
      },
      "outputs": [],
      "source": [
        "# текст запроса\n",
        "query = f'''SELECT COUNT(vac.name)\n",
        "            FROM public.vacancies AS vac\n",
        "            WHERE LOWER(vac.name) LIKE '%data%' OR LOWER(vac.name) LIKE '%данн%'\n",
        "            '''"
      ]
    },
    {
      "cell_type": "code",
      "execution_count": 218,
      "id": "9F1meAqsuUjd",
      "metadata": {
        "id": "9F1meAqsuUjd"
      },
      "outputs": [],
      "source": [
        "# результат запроса\n",
        "result_6_1 = DBObj(query=query).to_string()"
      ]
    },
    {
      "cell_type": "markdown",
      "id": "4dea20cb-a36b-474a-a0b9-e08e8e3857a5",
      "metadata": {
        "id": "4dea20cb-a36b-474a-a0b9-e08e8e3857a5"
      },
      "source": [
        "2. Сколько есть подходящих вакансий для начинающего дата-сайентиста? \n",
        "Будем считать вакансиями для дата-сайентистов такие, в названии которых есть хотя бы одно из следующих сочетаний:\n",
        "* 'data scientist'\n",
        "* 'data science'\n",
        "* 'исследователь данных'\n",
        "* 'ML' (здесь не нужно брать вакансии по HTML)\n",
        "* 'machine learning'\n",
        "* 'машинн%обучен%'\n",
        "\n",
        "** В следующих заданиях мы продолжим работать с вакансиями по этому условию.*\n",
        "\n",
        "Считаем вакансиями для специалистов уровня Junior следующие:\n",
        "* в названии есть слово 'junior' *или*\n",
        "* требуемый опыт — Нет опыта *или*\n",
        "* тип трудоустройства — Стажировка.\n",
        " "
      ]
    },
    {
      "cell_type": "code",
      "execution_count": 219,
      "id": "9c61b3c0-bb66-46c9-ae1e-81d3f5752b4a",
      "metadata": {
        "id": "9c61b3c0-bb66-46c9-ae1e-81d3f5752b4a"
      },
      "outputs": [],
      "source": [
        "# текст запроса\n",
        "query = f'''WITH x (vac_name, vac_experience, vac_employment) AS \n",
        "            (SELECT vac.name, vac.experience, vac.employment\n",
        "            FROM public.vacancies AS vac\n",
        "            WHERE LOWER(vac.name) LIKE '%data%scientist%'\n",
        "            OR LOWER(vac.name) LIKE '%data%science%'\n",
        "            OR LOWER(vac.name) LIKE '%исследователь%данных%'\n",
        "            OR LOWER(vac.name) LIKE '%ml%'\n",
        "            AND LOWER(vac.name) NOT LIKE '%html%'\n",
        "            OR LOWER(vac.name) LIKE '%machine%learning%'\n",
        "            OR LOWER(vac.name) LIKE '%машинн%обучен%'\n",
        "            )\n",
        "            \n",
        "            SELECT COUNT(*)\n",
        "            FROM x\n",
        "            WHERE LOWER(x.vac_name) LIKE '%junior%'\n",
        "            OR LOWER(x.vac_experience) LIKE '%нет опыта%'\n",
        "            OR LOWER(x.vac_employment) LIKE '%cтажировка%'\n",
        "            '''"
      ]
    },
    {
      "cell_type": "code",
      "execution_count": 220,
      "id": "ZNM-LLYuu1dj",
      "metadata": {
        "id": "ZNM-LLYuu1dj"
      },
      "outputs": [],
      "source": [
        "# результат запроса\n",
        "result_6_2 = DBObj(query=query).to_string()"
      ]
    },
    {
      "cell_type": "markdown",
      "id": "eedceb80-c5ca-480e-b27a-278dfb8b4438",
      "metadata": {
        "id": "eedceb80-c5ca-480e-b27a-278dfb8b4438"
      },
      "source": [
        "3. Сколько есть вакансий для DS, в которых в качестве ключевого навыка указан SQL или postgres?\n",
        "\n",
        "** Критерии для отнесения вакансии к DS указаны в предыдущем задании.*"
      ]
    },
    {
      "cell_type": "code",
      "execution_count": 221,
      "id": "69621713-0cc5-4f1b-a1d7-bb144fa6148c",
      "metadata": {
        "id": "69621713-0cc5-4f1b-a1d7-bb144fa6148c"
      },
      "outputs": [],
      "source": [
        "# текст запроса\n",
        "query = f'''WITH x (vac_name, vac_key_skills) AS \n",
        "            (SELECT vac.name, vac.key_skills\n",
        "            FROM public.vacancies AS vac\n",
        "            WHERE LOWER(vac.name) LIKE '%data%scientist%'\n",
        "            OR LOWER(vac.name) LIKE '%data%science%'\n",
        "            OR LOWER(vac.name) LIKE '%исследователь%данных%'\n",
        "            OR LOWER(vac.name) LIKE '%ml%'\n",
        "            AND LOWER(vac.name) NOT LIKE '%html%'\n",
        "            OR LOWER(vac.name) LIKE '%machine%learning%'\n",
        "            OR LOWER(vac.name) LIKE '%машинн%обучен%'\n",
        "            )\n",
        "            SELECT COUNT(*)\n",
        "            FROM x\n",
        "            WHERE LOWER(x.vac_key_skills) LIKE ('%sql%')\n",
        "            OR LOWER(x.vac_key_skills) LIKE ('%postgres%')\n",
        "        '''"
      ]
    },
    {
      "cell_type": "code",
      "execution_count": 222,
      "id": "alA8WEAAvGdf",
      "metadata": {
        "id": "alA8WEAAvGdf"
      },
      "outputs": [],
      "source": [
        "# результат запроса\n",
        "result_6_3 = DBObj(query=query).to_string()"
      ]
    },
    {
      "cell_type": "markdown",
      "id": "1be1e9c6-37cf-4a5f-bfeb-04cab799dc80",
      "metadata": {
        "id": "1be1e9c6-37cf-4a5f-bfeb-04cab799dc80"
      },
      "source": [
        "4. Проверьте, насколько популярен Python в требованиях работодателей к DS.Для этого вычислите количество вакансий, в которых в качестве ключевого навыка указан Python.\n",
        "\n",
        "** Это можно сделать помощью запроса, аналогичного предыдущему.*"
      ]
    },
    {
      "cell_type": "code",
      "execution_count": 223,
      "id": "0036a355-9ccf-4564-8b01-73d8194297e7",
      "metadata": {
        "id": "0036a355-9ccf-4564-8b01-73d8194297e7"
      },
      "outputs": [],
      "source": [
        "# текст запроса\n",
        "query = f'''WITH x (vac_name, vac_key_skills) AS \n",
        "            (SELECT vac.name, vac.key_skills\n",
        "            FROM public.vacancies AS vac\n",
        "            WHERE LOWER(vac.name) LIKE '%data%scientist%'\n",
        "            OR LOWER(vac.name) LIKE '%data%science%'\n",
        "            OR LOWER(vac.name) LIKE '%исследователь%данных%'\n",
        "            OR LOWER(vac.name) LIKE '%ml%'\n",
        "            AND LOWER(vac.name) NOT LIKE '%html%'\n",
        "            OR LOWER(vac.name) LIKE '%machine%learning%'\n",
        "            OR LOWER(vac.name) LIKE '%машинн%обучен%'\n",
        "            )\n",
        "            SELECT COUNT(*)\n",
        "            FROM x\n",
        "            WHERE LOWER(x.vac_key_skills) LIKE ('%python%')\n",
        "        '''"
      ]
    },
    {
      "cell_type": "code",
      "execution_count": 224,
      "id": "1i-5WyucvQ6v",
      "metadata": {
        "id": "1i-5WyucvQ6v"
      },
      "outputs": [],
      "source": [
        "# результат запроса\n",
        "result_6_4 = DBObj(query=query).to_string()"
      ]
    },
    {
      "cell_type": "markdown",
      "id": "ec3c8db7-fa21-4a41-a994-1af63742a642",
      "metadata": {
        "id": "ec3c8db7-fa21-4a41-a994-1af63742a642"
      },
      "source": [
        "5. Сколько ключевых навыков в среднем указывают в вакансиях для DS?\n",
        "Ответ округлите до двух знаков после точки-разделителя."
      ]
    },
    {
      "cell_type": "code",
      "execution_count": 225,
      "id": "58188c86",
      "metadata": {},
      "outputs": [],
      "source": [
        "# текст запроса\n",
        "query = f'''select\n",
        "            round(avg(length(key_skills) - length(replace(key_skills,CHR(9),''))+1),2)\n",
        "            \n",
        "            from vacancies v\n",
        "\n",
        "            WHERE (v.name ILIKE '%data scientist%')\n",
        "            OR (lower(v.name) ILIKE '%data science%')\n",
        "            OR (v.name ILIKE '%исследователь данных%')\n",
        "            OR (v.name  LIKE '%ML%' AND  (v.name NOT iLIKE '%html%'))\n",
        "            OR (v.name ILIKE '%machine learning%')\n",
        "            OR (v.name ILIKE '%машинн%обучен%')\n",
        "            AND (key_skills IS NOT NULL)\n",
        "        '''"
      ]
    },
    {
      "cell_type": "code",
      "execution_count": 226,
      "id": "a3V24Tvmviqk",
      "metadata": {
        "id": "a3V24Tvmviqk"
      },
      "outputs": [],
      "source": [
        "# результат запроса\n",
        "result_6_5 = DBObj(query=query).to_string()"
      ]
    },
    {
      "cell_type": "markdown",
      "id": "1041c17a-ca8f-4543-a0ca-32778914fb00",
      "metadata": {
        "id": "1041c17a-ca8f-4543-a0ca-32778914fb00"
      },
      "source": [
        "6. Напишите запрос, позволяющий вычислить, какую зарплату для DS в **среднем** указывают для каждого типа требуемого опыта (уникальное значение из поля *experience*). \n",
        "\n",
        "При решении задачи примите во внимание следующее:\n",
        "1. Рассматриваем только вакансии, у которых заполнено хотя бы одно из двух полей с зарплатой.\n",
        "2. Если заполнены оба поля с зарплатой, то считаем зарплату по каждой вакансии как сумму двух полей, делённую на 2. Если заполнено только одно из полей, то его и считаем зарплатой по вакансии.\n",
        "3. Если в расчётах участвует null, в результате он тоже даст null (посмотрите, что возвращает запрос select 1 + null). Чтобы избежать этой ситуацию, мы воспользуемся функцией [coalesce](https://postgrespro.ru/docs/postgresql/9.5/functions-conditional#functions-coalesce-nvl-ifnull), которая заменит null на значение, которое мы передадим. Например, посмотрите, что возвращает запрос `select 1 + coalesce(null, 0)`\n",
        "\n",
        "Выясните, на какую зарплату в среднем может рассчитывать дата-сайентист с опытом работы от 3 до 6 лет. Результат округлите до целого числа. "
      ]
    },
    {
      "cell_type": "code",
      "execution_count": 227,
      "id": "6a743d39-5204-48d3-8271-b9f88e68d40e",
      "metadata": {
        "id": "6a743d39-5204-48d3-8271-b9f88e68d40e"
      },
      "outputs": [],
      "source": [
        "query = f'''WITH x (exp, s_from, s_to) AS\n",
        "            (\n",
        "            SELECT vac.experience, vac.salary_from, vac.salary_to\n",
        "            FROM public.vacancies AS vac\n",
        "            \n",
        "            WHERE (vac.name ILIKE '%data scientist%')\n",
        "            OR (LOWER(vac.name) ILIKE '%data science%')\n",
        "            OR (vac.name ILIKE '%исследователь данных%')\n",
        "            OR (vac.name LIKE '%ML%' AND (vac.name NOT ILIKE '%HTML%'))\n",
        "            OR (vac.name ILIKE '%machine learning%')\n",
        "            OR (vac.name ILIKE '%машинн%обучен%')\n",
        "            )\n",
        "\n",
        "            SELECT\n",
        "            ROUND(AVG(COALESCE((s_to + s_from)/2, s_from, s_to)), 0)\n",
        "            FROM x\n",
        "            WHERE (s_from IS NOT NULL OR s_to IS NOT NULL)\n",
        "            AND (x.exp ILIKE '%3 до 6%')\n",
        "            GROUP BY x.exp\n",
        "        '''"
      ]
    },
    {
      "cell_type": "code",
      "execution_count": 228,
      "id": "aRIJ0mZEwU1_",
      "metadata": {
        "id": "aRIJ0mZEwU1_"
      },
      "outputs": [],
      "source": [
        "# результат запроса\n",
        "result_6_6 = DBObj(query=query).to_string()"
      ]
    },
    {
      "cell_type": "markdown",
      "id": "6a7892b4-4113-4746-adce-18aa2844f18e",
      "metadata": {
        "id": "6a7892b4-4113-4746-adce-18aa2844f18e"
      },
      "source": [
        "***"
      ]
    },
    {
      "cell_type": "code",
      "execution_count": 229,
      "id": "UjLWUptVwY1o",
      "metadata": {
        "id": "UjLWUptVwY1o"
      },
      "outputs": [
        {
          "name": "stdout",
          "output_type": "stream",
          "text": [
            "Задание 6.1. Количество вакансий имеющих отношение к данным: 1771\n",
            "Задание 6.2. Количиство вакансий для начинающего специалиста по анализу данных: 51\n",
            "Задание 6.3. Количество вакансий где требуются навыки SQL и postgeres: 229\n",
            "Задание 6.4. Количество вакансий где требуются навыки Python: 357\n",
            "Задание 6.5. Среднее количество ключевых навыков в вакансиях для DS: 6.41\n",
            "Задание 6.6. Средняя ЗП специалиста по анализу данных с опытом работы от 3 до 6 лет: 243115 руб.\n"
          ]
        }
      ],
      "source": [
        "# выводы по предметному анализу\n",
        "print(f'Задание 6.1. Количество вакансий имеющих отношение к данным: {result_6_1}')\n",
        "print(f'Задание 6.2. Количиство вакансий для начинающего специалиста по анализу данных: {result_6_2}')\n",
        "print(f'Задание 6.3. Количество вакансий где требуются навыки SQL и postgeres: {result_6_3}')\n",
        "print(f'Задание 6.4. Количество вакансий где требуются навыки Python: {result_6_4}')\n",
        "print(f'Задание 6.5. Среднее количество ключевых навыков в вакансиях для DS: {result_6_5}')\n",
        "print(f'Задание 6.6. Средняя ЗП специалиста по анализу данных с опытом работы от 3 до 6 лет: {result_6_6} руб.')"
      ]
    },
    {
      "cell_type": "markdown",
      "id": "c0ED6fh7wiBT",
      "metadata": {
        "id": "c0ED6fh7wiBT"
      },
      "source": [
        "# Общий вывод по проекту"
      ]
    },
    {
      "cell_type": "markdown",
      "id": "b7d99f0b",
      "metadata": {},
      "source": [
        "В ходе выполнения заданий было выявлено:\n",
        "* База охватывает информацию о вакансиях в большинстве регионов РФ и ближнего зарубежья в различных сферах деятельности\n",
        "* Большая часть вакансий так или иначе пересекается с IT сферой\n",
        "* В базе имееются пропуски или искажения, которые препятсвуют формированию прогнозов и более точной оценки \"стоимости специалиста\"\n",
        "      например, зарплатная вилка или слишком большая или неуказана вовсе, многие организации не указали сфер деятельности.\n",
        "Далее проведем небольшую модификацию данных что бы придать больше смысла сбранным данным."
      ]
    },
    {
      "cell_type": "code",
      "execution_count": 230,
      "id": "a5268771",
      "metadata": {},
      "outputs": [],
      "source": [
        "'''Расширить исследование возможно при помощи разделения вакансий по категориям.\n",
        "Из наиболее встречающихся слов в названиях вакансий составим список категорий подхлодящих под описание:\n",
        "* специалист широкого профиля, \n",
        "* специалист узкого профиля\n",
        "* руководитель\n",
        "'''\n",
        "\n",
        "query = f'''SELECT vac.name\n",
        "            FROM public.vacancies AS vac\n",
        "            '''\n",
        "rows = DBObj(query=query).to_rows()\n",
        "\n",
        "def clear_string(string):\n",
        "    non_alpha_char = ['.',',','-','/','\\\\','(',')','\\t','\\n']\n",
        "    for char in string:\n",
        "        if char in non_alpha_char:\n",
        "            string = string.replace(char, '*')\n",
        "    return string.lower()\n",
        "\n",
        "word_dict = dict()\n",
        "for row in rows:\n",
        "    word_list = row[0].split()\n",
        "    for word in word_list:\n",
        "        word = clear_string(word)\n",
        "        if word not in word_dict and len(word)>1:\n",
        "            word_dict[word] = 1\n",
        "        elif len(word)>2:\n",
        "            word_dict[word] += 1\n",
        "\n",
        "word_data = [(k, v) for k, v in word_dict.items()]\n",
        "\n",
        "df = pd.DataFrame(word_data, columns=['word', 'qty'])\n",
        "df = df.sort_values(by=['qty'], ascending=False)\n",
        "df = df[df['qty']>10]\n",
        "#display(list(df['word'].iloc[399:500]))\n"
      ]
    },
    {
      "cell_type": "code",
      "execution_count": 231,
      "id": "h9B3BL-wwj18",
      "metadata": {
        "id": "h9B3BL-wwj18"
      },
      "outputs": [],
      "source": [
        "'''Из текста полученного выше выделим слова, которые могут косвенно соотнести вакансию с категорией должности\n",
        "Добавим признаки типа должности к вакансиям в запрос.\n",
        "'''\n",
        "\n",
        "input_cols = f\"id, name, key_skills, schedule, experience, employment, salary_from, salary_to, area_id, employer_id\"\n",
        "ouput_cols = f\"id, name, key_skills, schedule, experience, employment, salary_from, salary_to, area_id, employer_id, type\"\n",
        "big_query = f'''WITH \n",
        "            x1 ({ouput_cols}) AS\n",
        "\n",
        "            (\n",
        "            SELECT {input_cols}, 'wide_specialist' AS type\n",
        "            \n",
        "            FROM public.vacancies AS vac\n",
        "            WHERE (vac.name ILIKE '%manag%' AND (vac.name NOT ILIKE '%proj%manag%') AND (vac.name NOT ILIKE '%prod%manag%'))\n",
        "            OR(vac.name ILIKE '%менедж%' AND (vac.name NOT ILIKE '%прод%') AND (vac.name NOT ILIKE '%проект%'))\n",
        "            OR(vac.name ILIKE '%админ%' AND (vac.name NOT ILIKE '%старш%') AND (vac.name NOT ILIKE '%инжен%'))\n",
        "            OR(vac.name ILIKE '%спец%' AND (vac.name NOT ILIKE '%ведущий спец%')AND (vac.name NOT ILIKE '%главный спец%'))\n",
        "            OR(vac.name ILIKE '%тестировщик%' AND (vac.name NOT ILIKE '%ведущ%') AND (vac.name NOT ILIKE '%старш%'))\n",
        "            OR(vac.name ILIKE '%консул%')\n",
        "            OR(vac.name ILIKE '%аналит%')\n",
        "            OR(vac.name ILIKE '%ученик%')\n",
        "            OR(vac.name ILIKE '%маркетолог%')\n",
        "            OR(vac.name ILIKE '%cтажер%')\n",
        "            OR(vac.name ILIKE '%junior%')\n",
        "            OR(vac.name ILIKE '%младший%')\n",
        "            OR(vac.name ILIKE '%сотрудник%')\n",
        "            OR(vac.name ILIKE '%оператор%')\n",
        "            OR(vac.name ILIKE '%support%')\n",
        "            OR(vac.name ILIKE '%начинающий%')\n",
        "            OR(vac.name ILIKE '%координатор%')\n",
        "            OR(vac.name ILIKE '%admin%')\n",
        "            OR(vac.name ILIKE '%корректор%')\n",
        "            )\n",
        "\n",
        "            ,x2 ({ouput_cols}) AS\n",
        "            \n",
        "            (\n",
        "            SELECT \n",
        "            {input_cols}, 'narrow_specialist' AS type\n",
        "            \n",
        "            FROM public.vacancies AS vac\n",
        "            WHERE (vac.name ILIKE '%develop%')\n",
        "            OR(vac.name ILIKE '%senior%')\n",
        "            OR(vac.name ILIKE '%engin%')\n",
        "            OR(vac.name ILIKE '%программист%' AND (vac.name NOT ILIKE '%cтажер%'))\n",
        "            OR(vac.name ILIKE '%разраб%' AND (vac.name NOT ILIKE '%cтажер%'))\n",
        "            OR(vac.name ILIKE '%инжен%')\n",
        "            OR(vac.name ILIKE '%эксперт%')\n",
        "            OR(vac.name ILIKE '%middl%')\n",
        "            OR(vac.name ILIKE '%ведущий специалист%')\n",
        "            OR(vac.name ILIKE '%старш%')\n",
        "            OR(vac.name ILIKE '%мастер%')\n",
        "            OR(vac.name ILIKE '%automation%')\n",
        "            OR(vac.name ILIKE '%scientist%')\n",
        "            OR(vac.name ILIKE '%архитектор%')\n",
        "            OR(vac.name ILIKE '%заместитель%')\n",
        "            OR(vac.name ILIKE '%преподаватель%')\n",
        "            OR(vac.name ILIKE '%верстал%')\n",
        "            OR(vac.name ILIKE '%машинист%')\n",
        "            OR(vac.name ILIKE '%методолог%')\n",
        "            OR(vac.name ILIKE '%officer%')\n",
        "            OR(vac.name ILIKE '%главный%' AND (vac.name ILIKE '%специалист%'))\n",
        "            OR(vac.name ILIKE '%manag%' AND (vac.name ILIKE '%proj%manag%') AND (vac.name ILIKE '%prod%manag%'))\n",
        "            OR(vac.name ILIKE '%менед%' AND (vac.name ILIKE '%прод%') AND (vac.name ILIKE '%проек%'))\n",
        "            )\n",
        "            \n",
        "            ,x3 ({ouput_cols}) AS\n",
        "            (\n",
        "            SELECT \n",
        "            {input_cols}, 'head' AS type\n",
        "\n",
        "            FROM public.vacancies AS vac\n",
        "            WHERE (vac.name ILIKE '%руковод%')\n",
        "            OR(vac.name ILIKE '%lead%')\n",
        "\n",
        "            OR(vac.name ILIKE '%начальник%')\n",
        "            OR(vac.name ILIKE '%директор%')\n",
        "            OR(vac.name ILIKE '%тимлид%')\n",
        "            OR(vac.name ILIKE '%chief%')\n",
        "            )\n",
        "\n",
        "            ,x4 ({ouput_cols}) AS\n",
        "            (\n",
        "            SELECT *\n",
        "            FROM \n",
        "            x1\n",
        "\n",
        "            UNION ALL\n",
        "\n",
        "            SELECT *\n",
        "            FROM \n",
        "            x2\n",
        "\n",
        "            UNION ALL\n",
        "\n",
        "            SELECT *\n",
        "            FROM \n",
        "            x3)\n",
        "\n",
        "            --SELECT x4.id, x4.name, x4.type, x4.key_skills, x4.schedule, x4.experience, x4.employment, x4.salary_from, x4.salary_to, x4.area_id, ar.name, x4.employer_id,  emp.name\n",
        "            \n",
        "            SELECT x4.id, \n",
        "                   x4.name,\n",
        "                   x4.type,\n",
        "                   x4.key_skills,\n",
        "                   x4.schedule,\n",
        "                   x4.experience,\n",
        "                   x4.employment,\n",
        "                   ROUND(AVG(COALESCE((x4.salary_from + x4.salary_to)/2, x4.salary_from,  x4.salary_to)), 0),\n",
        "                   x4.area_id,\n",
        "                   ar.name,\n",
        "                   x4.employer_id,\n",
        "                   emp.name\n",
        "                   \n",
        "            \n",
        "            \n",
        "            FROM x4\n",
        "            \n",
        "            JOIN public.employers AS emp ON emp.id=x4.employer_id\n",
        "            JOIN public.areas AS ar ON ar.id=x4.area_id\n",
        "            GROUP BY x4.id, \n",
        "                   x4.name,\n",
        "                   x4.type,\n",
        "                   x4.key_skills,\n",
        "                   x4.schedule,\n",
        "                   x4.experience,\n",
        "                   x4.employment,\n",
        "                   x4.area_id,\n",
        "                   ar.name,\n",
        "                   x4.employer_id,\n",
        "                   emp.name\n",
        "\n",
        "\n",
        "        '''\n",
        "df = DBObj(query=big_query).to_table(columns=['vac_id','vac_name', 'vac_type','vac_slills','schedule','experience','employment','salary','area_id','area_name', 'empl_id', 'emp_name'])"
      ]
    },
    {
      "cell_type": "code",
      "execution_count": 232,
      "id": "df9f047e",
      "metadata": {},
      "outputs": [
        {
          "name": "stdout",
          "output_type": "stream",
          "text": [
            "Признаки имеют некоторое расхождение в единичных случаях с описанием вакансии, но с помощью них можно подсчитать процентное соотношений вакансий, получаемую ЗП, опыт работы необходимый для категорий должностей.\n",
            "Далее в каких организациях требуются, какие категории сотрудников, соответвенно сделать вывод дефицит каких работников наблюдается в той или иной организации и т.д.\n",
            "\n"
          ]
        },
        {
          "data": {
            "text/html": [
              "<div>\n",
              "<style scoped>\n",
              "    .dataframe tbody tr th:only-of-type {\n",
              "        vertical-align: middle;\n",
              "    }\n",
              "\n",
              "    .dataframe tbody tr th {\n",
              "        vertical-align: top;\n",
              "    }\n",
              "\n",
              "    .dataframe thead th {\n",
              "        text-align: right;\n",
              "    }\n",
              "</style>\n",
              "<table border=\"1\" class=\"dataframe\">\n",
              "  <thead>\n",
              "    <tr style=\"text-align: right;\">\n",
              "      <th></th>\n",
              "      <th>type</th>\n",
              "      <th>qty</th>\n",
              "    </tr>\n",
              "  </thead>\n",
              "  <tbody>\n",
              "    <tr>\n",
              "      <th>0</th>\n",
              "      <td>head</td>\n",
              "      <td>3752</td>\n",
              "    </tr>\n",
              "    <tr>\n",
              "      <th>1</th>\n",
              "      <td>wide_specialist</td>\n",
              "      <td>19157</td>\n",
              "    </tr>\n",
              "    <tr>\n",
              "      <th>2</th>\n",
              "      <td>narrow_specialist</td>\n",
              "      <td>25692</td>\n",
              "    </tr>\n",
              "  </tbody>\n",
              "</table>\n",
              "</div>"
            ],
            "text/plain": [
              "                type    qty\n",
              "0               head   3752\n",
              "1    wide_specialist  19157\n",
              "2  narrow_specialist  25692"
            ]
          },
          "metadata": {},
          "output_type": "display_data"
        },
        {
          "data": {
            "application/vnd.plotly.v1+json": {
              "config": {
                "plotlyServerURL": "https://plot.ly"
              },
              "data": [
                {
                  "hovertemplate": "%{label} %{percent}<extra></extra>",
                  "labels": [
                    "Руководящая должность",
                    "Специалист широкого профиля",
                    "Специалист узкого профиля"
                  ],
                  "type": "pie",
                  "values": [
                    3752,
                    19157,
                    25692
                  ]
                }
              ],
              "layout": {
                "autosize": false,
                "height": 400,
                "legend": {
                  "orientation": "h",
                  "title": {
                    "text": "Категории:"
                  }
                },
                "template": {
                  "data": {
                    "bar": [
                      {
                        "error_x": {
                          "color": "#2a3f5f"
                        },
                        "error_y": {
                          "color": "#2a3f5f"
                        },
                        "marker": {
                          "line": {
                            "color": "#E5ECF6",
                            "width": 0.5
                          },
                          "pattern": {
                            "fillmode": "overlay",
                            "size": 10,
                            "solidity": 0.2
                          }
                        },
                        "type": "bar"
                      }
                    ],
                    "barpolar": [
                      {
                        "marker": {
                          "line": {
                            "color": "#E5ECF6",
                            "width": 0.5
                          },
                          "pattern": {
                            "fillmode": "overlay",
                            "size": 10,
                            "solidity": 0.2
                          }
                        },
                        "type": "barpolar"
                      }
                    ],
                    "carpet": [
                      {
                        "aaxis": {
                          "endlinecolor": "#2a3f5f",
                          "gridcolor": "white",
                          "linecolor": "white",
                          "minorgridcolor": "white",
                          "startlinecolor": "#2a3f5f"
                        },
                        "baxis": {
                          "endlinecolor": "#2a3f5f",
                          "gridcolor": "white",
                          "linecolor": "white",
                          "minorgridcolor": "white",
                          "startlinecolor": "#2a3f5f"
                        },
                        "type": "carpet"
                      }
                    ],
                    "choropleth": [
                      {
                        "colorbar": {
                          "outlinewidth": 0,
                          "ticks": ""
                        },
                        "type": "choropleth"
                      }
                    ],
                    "contour": [
                      {
                        "colorbar": {
                          "outlinewidth": 0,
                          "ticks": ""
                        },
                        "colorscale": [
                          [
                            0,
                            "#0d0887"
                          ],
                          [
                            0.1111111111111111,
                            "#46039f"
                          ],
                          [
                            0.2222222222222222,
                            "#7201a8"
                          ],
                          [
                            0.3333333333333333,
                            "#9c179e"
                          ],
                          [
                            0.4444444444444444,
                            "#bd3786"
                          ],
                          [
                            0.5555555555555556,
                            "#d8576b"
                          ],
                          [
                            0.6666666666666666,
                            "#ed7953"
                          ],
                          [
                            0.7777777777777778,
                            "#fb9f3a"
                          ],
                          [
                            0.8888888888888888,
                            "#fdca26"
                          ],
                          [
                            1,
                            "#f0f921"
                          ]
                        ],
                        "type": "contour"
                      }
                    ],
                    "contourcarpet": [
                      {
                        "colorbar": {
                          "outlinewidth": 0,
                          "ticks": ""
                        },
                        "type": "contourcarpet"
                      }
                    ],
                    "heatmap": [
                      {
                        "colorbar": {
                          "outlinewidth": 0,
                          "ticks": ""
                        },
                        "colorscale": [
                          [
                            0,
                            "#0d0887"
                          ],
                          [
                            0.1111111111111111,
                            "#46039f"
                          ],
                          [
                            0.2222222222222222,
                            "#7201a8"
                          ],
                          [
                            0.3333333333333333,
                            "#9c179e"
                          ],
                          [
                            0.4444444444444444,
                            "#bd3786"
                          ],
                          [
                            0.5555555555555556,
                            "#d8576b"
                          ],
                          [
                            0.6666666666666666,
                            "#ed7953"
                          ],
                          [
                            0.7777777777777778,
                            "#fb9f3a"
                          ],
                          [
                            0.8888888888888888,
                            "#fdca26"
                          ],
                          [
                            1,
                            "#f0f921"
                          ]
                        ],
                        "type": "heatmap"
                      }
                    ],
                    "heatmapgl": [
                      {
                        "colorbar": {
                          "outlinewidth": 0,
                          "ticks": ""
                        },
                        "colorscale": [
                          [
                            0,
                            "#0d0887"
                          ],
                          [
                            0.1111111111111111,
                            "#46039f"
                          ],
                          [
                            0.2222222222222222,
                            "#7201a8"
                          ],
                          [
                            0.3333333333333333,
                            "#9c179e"
                          ],
                          [
                            0.4444444444444444,
                            "#bd3786"
                          ],
                          [
                            0.5555555555555556,
                            "#d8576b"
                          ],
                          [
                            0.6666666666666666,
                            "#ed7953"
                          ],
                          [
                            0.7777777777777778,
                            "#fb9f3a"
                          ],
                          [
                            0.8888888888888888,
                            "#fdca26"
                          ],
                          [
                            1,
                            "#f0f921"
                          ]
                        ],
                        "type": "heatmapgl"
                      }
                    ],
                    "histogram": [
                      {
                        "marker": {
                          "pattern": {
                            "fillmode": "overlay",
                            "size": 10,
                            "solidity": 0.2
                          }
                        },
                        "type": "histogram"
                      }
                    ],
                    "histogram2d": [
                      {
                        "colorbar": {
                          "outlinewidth": 0,
                          "ticks": ""
                        },
                        "colorscale": [
                          [
                            0,
                            "#0d0887"
                          ],
                          [
                            0.1111111111111111,
                            "#46039f"
                          ],
                          [
                            0.2222222222222222,
                            "#7201a8"
                          ],
                          [
                            0.3333333333333333,
                            "#9c179e"
                          ],
                          [
                            0.4444444444444444,
                            "#bd3786"
                          ],
                          [
                            0.5555555555555556,
                            "#d8576b"
                          ],
                          [
                            0.6666666666666666,
                            "#ed7953"
                          ],
                          [
                            0.7777777777777778,
                            "#fb9f3a"
                          ],
                          [
                            0.8888888888888888,
                            "#fdca26"
                          ],
                          [
                            1,
                            "#f0f921"
                          ]
                        ],
                        "type": "histogram2d"
                      }
                    ],
                    "histogram2dcontour": [
                      {
                        "colorbar": {
                          "outlinewidth": 0,
                          "ticks": ""
                        },
                        "colorscale": [
                          [
                            0,
                            "#0d0887"
                          ],
                          [
                            0.1111111111111111,
                            "#46039f"
                          ],
                          [
                            0.2222222222222222,
                            "#7201a8"
                          ],
                          [
                            0.3333333333333333,
                            "#9c179e"
                          ],
                          [
                            0.4444444444444444,
                            "#bd3786"
                          ],
                          [
                            0.5555555555555556,
                            "#d8576b"
                          ],
                          [
                            0.6666666666666666,
                            "#ed7953"
                          ],
                          [
                            0.7777777777777778,
                            "#fb9f3a"
                          ],
                          [
                            0.8888888888888888,
                            "#fdca26"
                          ],
                          [
                            1,
                            "#f0f921"
                          ]
                        ],
                        "type": "histogram2dcontour"
                      }
                    ],
                    "mesh3d": [
                      {
                        "colorbar": {
                          "outlinewidth": 0,
                          "ticks": ""
                        },
                        "type": "mesh3d"
                      }
                    ],
                    "parcoords": [
                      {
                        "line": {
                          "colorbar": {
                            "outlinewidth": 0,
                            "ticks": ""
                          }
                        },
                        "type": "parcoords"
                      }
                    ],
                    "pie": [
                      {
                        "automargin": true,
                        "type": "pie"
                      }
                    ],
                    "scatter": [
                      {
                        "fillpattern": {
                          "fillmode": "overlay",
                          "size": 10,
                          "solidity": 0.2
                        },
                        "type": "scatter"
                      }
                    ],
                    "scatter3d": [
                      {
                        "line": {
                          "colorbar": {
                            "outlinewidth": 0,
                            "ticks": ""
                          }
                        },
                        "marker": {
                          "colorbar": {
                            "outlinewidth": 0,
                            "ticks": ""
                          }
                        },
                        "type": "scatter3d"
                      }
                    ],
                    "scattercarpet": [
                      {
                        "marker": {
                          "colorbar": {
                            "outlinewidth": 0,
                            "ticks": ""
                          }
                        },
                        "type": "scattercarpet"
                      }
                    ],
                    "scattergeo": [
                      {
                        "marker": {
                          "colorbar": {
                            "outlinewidth": 0,
                            "ticks": ""
                          }
                        },
                        "type": "scattergeo"
                      }
                    ],
                    "scattergl": [
                      {
                        "marker": {
                          "colorbar": {
                            "outlinewidth": 0,
                            "ticks": ""
                          }
                        },
                        "type": "scattergl"
                      }
                    ],
                    "scattermapbox": [
                      {
                        "marker": {
                          "colorbar": {
                            "outlinewidth": 0,
                            "ticks": ""
                          }
                        },
                        "type": "scattermapbox"
                      }
                    ],
                    "scatterpolar": [
                      {
                        "marker": {
                          "colorbar": {
                            "outlinewidth": 0,
                            "ticks": ""
                          }
                        },
                        "type": "scatterpolar"
                      }
                    ],
                    "scatterpolargl": [
                      {
                        "marker": {
                          "colorbar": {
                            "outlinewidth": 0,
                            "ticks": ""
                          }
                        },
                        "type": "scatterpolargl"
                      }
                    ],
                    "scatterternary": [
                      {
                        "marker": {
                          "colorbar": {
                            "outlinewidth": 0,
                            "ticks": ""
                          }
                        },
                        "type": "scatterternary"
                      }
                    ],
                    "surface": [
                      {
                        "colorbar": {
                          "outlinewidth": 0,
                          "ticks": ""
                        },
                        "colorscale": [
                          [
                            0,
                            "#0d0887"
                          ],
                          [
                            0.1111111111111111,
                            "#46039f"
                          ],
                          [
                            0.2222222222222222,
                            "#7201a8"
                          ],
                          [
                            0.3333333333333333,
                            "#9c179e"
                          ],
                          [
                            0.4444444444444444,
                            "#bd3786"
                          ],
                          [
                            0.5555555555555556,
                            "#d8576b"
                          ],
                          [
                            0.6666666666666666,
                            "#ed7953"
                          ],
                          [
                            0.7777777777777778,
                            "#fb9f3a"
                          ],
                          [
                            0.8888888888888888,
                            "#fdca26"
                          ],
                          [
                            1,
                            "#f0f921"
                          ]
                        ],
                        "type": "surface"
                      }
                    ],
                    "table": [
                      {
                        "cells": {
                          "fill": {
                            "color": "#EBF0F8"
                          },
                          "line": {
                            "color": "white"
                          }
                        },
                        "header": {
                          "fill": {
                            "color": "#C8D4E3"
                          },
                          "line": {
                            "color": "white"
                          }
                        },
                        "type": "table"
                      }
                    ]
                  },
                  "layout": {
                    "annotationdefaults": {
                      "arrowcolor": "#2a3f5f",
                      "arrowhead": 0,
                      "arrowwidth": 1
                    },
                    "autotypenumbers": "strict",
                    "coloraxis": {
                      "colorbar": {
                        "outlinewidth": 0,
                        "ticks": ""
                      }
                    },
                    "colorscale": {
                      "diverging": [
                        [
                          0,
                          "#8e0152"
                        ],
                        [
                          0.1,
                          "#c51b7d"
                        ],
                        [
                          0.2,
                          "#de77ae"
                        ],
                        [
                          0.3,
                          "#f1b6da"
                        ],
                        [
                          0.4,
                          "#fde0ef"
                        ],
                        [
                          0.5,
                          "#f7f7f7"
                        ],
                        [
                          0.6,
                          "#e6f5d0"
                        ],
                        [
                          0.7,
                          "#b8e186"
                        ],
                        [
                          0.8,
                          "#7fbc41"
                        ],
                        [
                          0.9,
                          "#4d9221"
                        ],
                        [
                          1,
                          "#276419"
                        ]
                      ],
                      "sequential": [
                        [
                          0,
                          "#0d0887"
                        ],
                        [
                          0.1111111111111111,
                          "#46039f"
                        ],
                        [
                          0.2222222222222222,
                          "#7201a8"
                        ],
                        [
                          0.3333333333333333,
                          "#9c179e"
                        ],
                        [
                          0.4444444444444444,
                          "#bd3786"
                        ],
                        [
                          0.5555555555555556,
                          "#d8576b"
                        ],
                        [
                          0.6666666666666666,
                          "#ed7953"
                        ],
                        [
                          0.7777777777777778,
                          "#fb9f3a"
                        ],
                        [
                          0.8888888888888888,
                          "#fdca26"
                        ],
                        [
                          1,
                          "#f0f921"
                        ]
                      ],
                      "sequentialminus": [
                        [
                          0,
                          "#0d0887"
                        ],
                        [
                          0.1111111111111111,
                          "#46039f"
                        ],
                        [
                          0.2222222222222222,
                          "#7201a8"
                        ],
                        [
                          0.3333333333333333,
                          "#9c179e"
                        ],
                        [
                          0.4444444444444444,
                          "#bd3786"
                        ],
                        [
                          0.5555555555555556,
                          "#d8576b"
                        ],
                        [
                          0.6666666666666666,
                          "#ed7953"
                        ],
                        [
                          0.7777777777777778,
                          "#fb9f3a"
                        ],
                        [
                          0.8888888888888888,
                          "#fdca26"
                        ],
                        [
                          1,
                          "#f0f921"
                        ]
                      ]
                    },
                    "colorway": [
                      "#636efa",
                      "#EF553B",
                      "#00cc96",
                      "#ab63fa",
                      "#FFA15A",
                      "#19d3f3",
                      "#FF6692",
                      "#B6E880",
                      "#FF97FF",
                      "#FECB52"
                    ],
                    "font": {
                      "color": "#2a3f5f"
                    },
                    "geo": {
                      "bgcolor": "white",
                      "lakecolor": "white",
                      "landcolor": "#E5ECF6",
                      "showlakes": true,
                      "showland": true,
                      "subunitcolor": "white"
                    },
                    "hoverlabel": {
                      "align": "left"
                    },
                    "hovermode": "closest",
                    "mapbox": {
                      "style": "light"
                    },
                    "paper_bgcolor": "white",
                    "plot_bgcolor": "#E5ECF6",
                    "polar": {
                      "angularaxis": {
                        "gridcolor": "white",
                        "linecolor": "white",
                        "ticks": ""
                      },
                      "bgcolor": "#E5ECF6",
                      "radialaxis": {
                        "gridcolor": "white",
                        "linecolor": "white",
                        "ticks": ""
                      }
                    },
                    "scene": {
                      "xaxis": {
                        "backgroundcolor": "#E5ECF6",
                        "gridcolor": "white",
                        "gridwidth": 2,
                        "linecolor": "white",
                        "showbackground": true,
                        "ticks": "",
                        "zerolinecolor": "white"
                      },
                      "yaxis": {
                        "backgroundcolor": "#E5ECF6",
                        "gridcolor": "white",
                        "gridwidth": 2,
                        "linecolor": "white",
                        "showbackground": true,
                        "ticks": "",
                        "zerolinecolor": "white"
                      },
                      "zaxis": {
                        "backgroundcolor": "#E5ECF6",
                        "gridcolor": "white",
                        "gridwidth": 2,
                        "linecolor": "white",
                        "showbackground": true,
                        "ticks": "",
                        "zerolinecolor": "white"
                      }
                    },
                    "shapedefaults": {
                      "line": {
                        "color": "#2a3f5f"
                      }
                    },
                    "ternary": {
                      "aaxis": {
                        "gridcolor": "white",
                        "linecolor": "white",
                        "ticks": ""
                      },
                      "baxis": {
                        "gridcolor": "white",
                        "linecolor": "white",
                        "ticks": ""
                      },
                      "bgcolor": "#E5ECF6",
                      "caxis": {
                        "gridcolor": "white",
                        "linecolor": "white",
                        "ticks": ""
                      }
                    },
                    "title": {
                      "x": 0.05
                    },
                    "xaxis": {
                      "automargin": true,
                      "gridcolor": "white",
                      "linecolor": "white",
                      "ticks": "",
                      "title": {
                        "standoff": 15
                      },
                      "zerolinecolor": "white",
                      "zerolinewidth": 2
                    },
                    "yaxis": {
                      "automargin": true,
                      "gridcolor": "white",
                      "linecolor": "white",
                      "ticks": "",
                      "title": {
                        "standoff": 15
                      },
                      "zerolinecolor": "white",
                      "zerolinewidth": 2
                    }
                  }
                },
                "title": {
                  "text": "Распределение вакансий по категориям на рынке труда",
                  "x": 0.5
                },
                "width": 550
              }
            }
          },
          "metadata": {},
          "output_type": "display_data"
        }
      ],
      "source": [
        "print('''Признаки имеют некоторое расхождение в единичных случаях с описанием вакансии, но с помощью них можно подсчитать процентное соотношений вакансий, получаемую ЗП, опыт работы необходимый для категорий должностей.\n",
        "Далее в каких организациях требуются, какие категории сотрудников, соответвенно сделать вывод дефицит каких работников наблюдается в той или иной организации и т.д.\n",
        "''')\n",
        "import plotly\n",
        "import plotly.graph_objs as go\n",
        "import plotly.express as px\n",
        "\n",
        "head_count = df['vac_id'][df['vac_type']=='head'].count()\n",
        "wide_specialist_count = df['vac_id'][df['vac_type']=='wide_specialist'].count()\n",
        "narrow_specialist_count = df['vac_id'][df['vac_type']=='narrow_specialist'].count()\n",
        "types = ['head', 'wide_specialist','narrow_specialist']\n",
        "data = list(zip(types,[head_count, wide_specialist_count, narrow_specialist_count]))\n",
        "pie_df = pd.DataFrame(data, columns=['type', 'qty'])\n",
        "display(pie_df)\n",
        "\n",
        "fig = go.Figure()\n",
        "fig.add_trace(go.Pie(values=pie_df['qty'], \n",
        "                     labels=['Руководящая должность','Специалист широкого профиля','Специалист узкого профиля'],\n",
        "                     hovertemplate= '%{label} %{percent}'+'<extra></extra>'))\n",
        "\n",
        "fig.update_layout(autosize=False, width=550, height=400,\n",
        "                  title=\"Распределение вакансий по категориям на рынке труда\",\n",
        "                  legend_title=\"Категории:\",\n",
        "                  legend_orientation=\"h\",\n",
        "                  title_x = 0.5)\n",
        "fig.write_html('_includes/1.html')\n",
        "fig.write_image('_includes/1.png')\n",
        "fig.show()"
      ]
    },
    {
      "cell_type": "markdown",
      "id": "265bc284",
      "metadata": {},
      "source": [
        "![Рис. 1](_includes/1.png)"
      ]
    },
    {
      "cell_type": "markdown",
      "id": "ef1e24ff",
      "metadata": {},
      "source": [
        "Промежуточный вывод: Наиболее востребованы узконаправленные специалисты. Проверим насколько востребованность соотносится с предлагаемой заработной платой."
      ]
    },
    {
      "cell_type": "code",
      "execution_count": 233,
      "id": "3591067e",
      "metadata": {},
      "outputs": [
        {
          "name": "stdout",
          "output_type": "stream",
          "text": [
            "Подсчитаем среднюю ЗП для разных категорий вакансий.\n",
            "Проблема заключается в том что для большинства вакансий не указана ЗП\n",
            "Поэтому, придется для начала выяснить процент пропусков, а затем реализовать механизм компенсации недостающих данных.\n",
            "\n",
            "Количетво вакансий узких специалистов без ЗП: 13968\n",
            "Количетво руководящих должностей без ЗП: 2125\n",
            "Количество специалистов широкого профиля без ЗП: 8767\n",
            "Общее количество вакансий: 48601\n",
            "Процент пропусков 51.15 %\n"
          ]
        }
      ],
      "source": [
        "print('''Подсчитаем среднюю ЗП для разных категорий вакансий.\n",
        "Проблема заключается в том что для большинства вакансий не указана ЗП\n",
        "Поэтому, придется для начала выяснить процент пропусков, а затем реализовать механизм компенсации недостающих данных.\n",
        "''')\n",
        "temp = df.copy()\n",
        "\n",
        "def show_non_salary_vacancies(input_df):\n",
        "    '''Выводит на экран данные по пропускам значений ЗП в наборе данных\n",
        "    '''\n",
        "    search_df = input_df.copy()\n",
        "    try:\n",
        "       search_df.drop(['vac_name','vac_slills','schedule','experience','employment', 'area_id', 'area_name', 'empl_id', 'emp_name'], axis=1, inplace=True)\n",
        "    except:\n",
        "        pass\n",
        "    search_df = search_df[search_df['salary'].isna()]\n",
        "    narrow = search_df[search_df['vac_type']=='narrow_specialist'].shape[0]\n",
        "    head = search_df[search_df['vac_type']=='head'].shape[0]\n",
        "    wide = search_df[search_df['vac_type']=='wide_specialist'].shape[0]\n",
        "    total_vac = input_df.shape[0]\n",
        "    print(f\"Количетво вакансий узких специалистов без ЗП: {narrow}\")\n",
        "    print(f\"Количетво руководящих должностей без ЗП: {head}\")\n",
        "    print(f\"Количество специалистов широкого профиля без ЗП: {wide}\")\n",
        "    print(f\"Общее количество вакансий: {total_vac}\")\n",
        "    print(f\"Процент пропусков {round(((narrow+head+wide)/total_vac)*100, 2)} %\")\n",
        "    \n",
        "show_non_salary_vacancies(temp)\n"
      ]
    },
    {
      "cell_type": "code",
      "execution_count": 234,
      "id": "0e5dedea",
      "metadata": {},
      "outputs": [
        {
          "name": "stdout",
          "output_type": "stream",
          "text": [
            "За ориентир предполагаемой средней ЗП для разных категорий можно взять вакансии крупных работодателей.\n",
            "Например, из результатов полученных выше такими ориентирами могут быть \"Яндекс\" \"Ростелеком\" \"Спецремонт\" и т.д.\n",
            "\n",
            "Количетво вакансий узких специалистов без ЗП: 125\n",
            "Количетво руководящих должностей без ЗП: 20\n",
            "Количество специалистов широкого профиля без ЗП: 258\n",
            "Общее количество вакансий: 2569\n",
            "Процент пропусков 15.69 %\n"
          ]
        }
      ],
      "source": [
        "\n",
        "print ('''За ориентир предполагаемой средней ЗП для разных категорий можно взять вакансии крупных работодателей.\n",
        "Например, из результатов полученных выше такими ориентирами могут быть \"Яндекс\" \"Ростелеком\" \"Спецремонт\" и т.д.''')\n",
        "print()\n",
        "df['empl_id'] = df['empl_id'].astype('int64')\n",
        "big_employers_df = df[df['emp_name'].str.contains('Янд') \n",
        "                      | df['emp_name'].str.contains('Почта') \n",
        "                      | df['emp_name'].str.contains('Спецремонт') \n",
        "                      | df['emp_name'].str.contains('ЕФИН')\n",
        "                      | df['emp_name'].str.contains('Поляков Денис Иванович')\n",
        "                      | df['emp_name'].str.contains('Красное & Белое')\n",
        "                      | df['emp_name'].str.contains('Тензор')\n",
        "                      ]\n",
        "\n",
        "show_non_salary_vacancies(big_employers_df)\n",
        "\n"
      ]
    },
    {
      "cell_type": "code",
      "execution_count": 235,
      "id": "74c32417",
      "metadata": {},
      "outputs": [
        {
          "name": "stdout",
          "output_type": "stream",
          "text": [
            "Итак, основываясь на более подробной выборке сделаем прогнозы по средней заработной плате для разных категорий\n",
            "и добавим их в исходный набор\n",
            "\n",
            "Средняя ЗП узкого специалиста: 95580 руб.\n",
            "Средняя ЗП руководителя: 109935 руб.\n",
            "Средняя ЗП специалиста широкого профиля: 26791 руб.\n"
          ]
        }
      ],
      "source": [
        "print('''Итак, основываясь на более подробной выборке сделаем прогнозы по средней заработной плате для разных категорий\n",
        "и добавим их в исходный набор\n",
        "''')\n",
        "\n",
        "def show_mean_sallary(input_df):\n",
        "    search_df = input_df.copy()\n",
        "    narrow = search_df[search_df['vac_type']=='narrow_specialist']['salary'].mean()\n",
        "    head = search_df[search_df['vac_type']=='head']['salary'].mean()\n",
        "    wide = search_df[search_df['vac_type']=='wide_specialist']['salary'].mean()\n",
        "    print(f\"Средняя ЗП узкого специалиста: {round(narrow)} руб.\")\n",
        "    print(f\"Средняя ЗП руководителя: {round(head)} руб.\")\n",
        "    print(f\"Средняя ЗП специалиста широкого профиля: {round(wide)} руб.\")\n",
        "\n",
        "\n",
        "show_mean_sallary(big_employers_df)"
      ]
    },
    {
      "cell_type": "code",
      "execution_count": 236,
      "id": "30785e38",
      "metadata": {},
      "outputs": [
        {
          "name": "stdout",
          "output_type": "stream",
          "text": [
            "Проверим, что пропусков не осталось и какие значения у нас получились...\n",
            "      \n",
            "Количетво вакансий узких специалистов без ЗП: 0\n",
            "Количетво руководящих должностей без ЗП: 0\n",
            "Количество специалистов широкого профиля без ЗП: 0\n",
            "Общее количество вакансий: 48601\n",
            "Процент пропусков 0.0 %\n",
            "\n",
            "Средняя ЗП узкого специалиста: 99855 руб.\n",
            "Средняя ЗП руководителя: 115314 руб.\n",
            "Средняя ЗП специалиста широкого профиля: 43318 руб.\n"
          ]
        }
      ],
      "source": [
        "#Уберем предупреждение о том что будут перезаписаны данные в pandas DataFrame\n",
        "pd.options.mode.chained_assignment = None \n",
        "\n",
        "new_df_head = temp.copy()\n",
        "new_df_narrow = temp.copy()\n",
        "new_df_wide = temp.copy()\n",
        "\n",
        "new_df_narrow = temp[temp['vac_type']=='narrow_specialist']\n",
        "new_df_narrow['salary'] = new_df_narrow['salary'].fillna(95580)\n",
        "\n",
        "new_df_head = temp[temp['vac_type']=='head']\n",
        "new_df_head['salary'] = new_df_head['salary'].fillna(109935)\n",
        "\n",
        "new_df_wide = temp[temp['vac_type']=='wide_specialist']\n",
        "new_df_wide['salary'] = new_df_wide['salary'].fillna(26791)\n",
        "\n",
        "combined = pd.concat([new_df_narrow, new_df_head, new_df_wide])\n",
        "print('''Проверим, что пропусков не осталось и какие значения у нас получились...\n",
        "      ''')\n",
        "show_non_salary_vacancies(combined)\n",
        "print()\n",
        "show_mean_sallary(combined)\n",
        "\n",
        "\n"
      ]
    },
    {
      "cell_type": "markdown",
      "id": "34d16ed7",
      "metadata": {},
      "source": [
        "Промежуточный вывод: востребованность узконаправенных высоквалифицированных специалистов подтвердилась \n",
        "предлагаемой заработной платой. Она немногим ниже чем средняя у руководящих должностей.\n",
        "\n",
        "\n",
        "Далее нужно построить столбчатую диаграмму. Также можно проиндексировать данные для того что бы получить примерный данные на сегодняшний день...\n",
        "\n",
        "Возмем за отправную точку 2020 год. Согласно [данным об инфляции](https://xn----ctbjnaatncev9av3a8f8b.xn--p1ai/%D1%82%D0%B0%D0%B1%D0%BB%D0%B8%D1%86%D1%8B-%D0%B8%D0%BD%D1%84%D0%BB%D1%8F%D1%86%D0%B8%D0%B8)\n",
        "получим следующую таблицу\n",
        "\n",
        "|       2020|       2021|       2022|       2023|       2024|\n",
        "|-----------|-----------|-----------|-----------|-----------|\n",
        "|      4.91%|      8.39%|     11.92%|      7.42%|         9%|\n",
        "\n",
        "\n",
        "*т.к. 2024 еще не закончился условно примем за 9%"
      ]
    },
    {
      "cell_type": "code",
      "execution_count": 237,
      "id": "0fc331f7",
      "metadata": {},
      "outputs": [
        {
          "name": "stdout",
          "output_type": "stream",
          "text": [
            "Получаем данные по средней заработной плате за несколько лет: \n",
            "\n"
          ]
        },
        {
          "data": {
            "text/html": [
              "<div>\n",
              "<style scoped>\n",
              "    .dataframe tbody tr th:only-of-type {\n",
              "        vertical-align: middle;\n",
              "    }\n",
              "\n",
              "    .dataframe tbody tr th {\n",
              "        vertical-align: top;\n",
              "    }\n",
              "\n",
              "    .dataframe thead th {\n",
              "        text-align: right;\n",
              "    }\n",
              "</style>\n",
              "<table border=\"1\" class=\"dataframe\">\n",
              "  <thead>\n",
              "    <tr style=\"text-align: right;\">\n",
              "      <th></th>\n",
              "      <th>Group</th>\n",
              "      <th>2020</th>\n",
              "      <th>2021</th>\n",
              "      <th>2022</th>\n",
              "      <th>2023</th>\n",
              "      <th>2024</th>\n",
              "      <th>2025</th>\n",
              "    </tr>\n",
              "  </thead>\n",
              "  <tbody>\n",
              "    <tr>\n",
              "      <th>0</th>\n",
              "      <td>wide_specialist</td>\n",
              "      <td>43318</td>\n",
              "      <td>45555.0</td>\n",
              "      <td>49727.0</td>\n",
              "      <td>56457.0</td>\n",
              "      <td>60982.0</td>\n",
              "      <td>67013.0</td>\n",
              "    </tr>\n",
              "    <tr>\n",
              "      <th>1</th>\n",
              "      <td>narrow_specialist</td>\n",
              "      <td>99855</td>\n",
              "      <td>105011.0</td>\n",
              "      <td>114628.0</td>\n",
              "      <td>130141.0</td>\n",
              "      <td>140571.0</td>\n",
              "      <td>154474.0</td>\n",
              "    </tr>\n",
              "    <tr>\n",
              "      <th>2</th>\n",
              "      <td>head</td>\n",
              "      <td>115314</td>\n",
              "      <td>121268.0</td>\n",
              "      <td>132374.0</td>\n",
              "      <td>150288.0</td>\n",
              "      <td>162333.0</td>\n",
              "      <td>178388.0</td>\n",
              "    </tr>\n",
              "  </tbody>\n",
              "</table>\n",
              "</div>"
            ],
            "text/plain": [
              "               Group    2020      2021      2022      2023      2024      2025\n",
              "0    wide_specialist   43318   45555.0   49727.0   56457.0   60982.0   67013.0\n",
              "1  narrow_specialist   99855  105011.0  114628.0  130141.0  140571.0  154474.0\n",
              "2               head  115314  121268.0  132374.0  150288.0  162333.0  178388.0"
            ]
          },
          "metadata": {},
          "output_type": "display_data"
        }
      ],
      "source": [
        "bar_data = pd.DataFrame({\n",
        "    'Group': ['wide_specialist', 'narrow_specialist', 'head'],\n",
        "    '2020': [round(combined[combined['vac_type']=='wide_specialist']['salary'].mean()),\n",
        "             round(combined[combined['vac_type']=='narrow_specialist']['salary'].mean()),\n",
        "             round(combined[combined['vac_type']=='head']['salary'].mean())]\n",
        "    })\n",
        "year = [2020,2021,2022,2023,2024,2025]\n",
        "inflation = [3.05,4.91,8.39,11.92,7.42,9]\n",
        "\n",
        "for i in range(1,len(inflation)):\n",
        "     \n",
        "      bar_data[str(year[i])]=round((bar_data.iloc[:,[i]])/(1-(inflation[i])/100))\n",
        "\n",
        "print('''Получаем данные по средней заработной плате за несколько лет: \n",
        "''')\n",
        "display(bar_data)\n"
      ]
    },
    {
      "cell_type": "code",
      "execution_count": 238,
      "id": "18a8b90c",
      "metadata": {},
      "outputs": [
        {
          "data": {
            "application/vnd.plotly.v1+json": {
              "config": {
                "plotlyServerURL": "https://plot.ly"
              },
              "data": [
                {
                  "customdata": [
                    "43.32 тыс.",
                    "99.86 тыс.",
                    "115.31 тыс."
                  ],
                  "hovertemplate": "Категория: %{x}<br>ЗП: %{customdata}<extra></extra>",
                  "name": "2020",
                  "type": "bar",
                  "x": [
                    "wide_specialist",
                    "narrow_specialist",
                    "head"
                  ],
                  "y": [
                    43318,
                    99855,
                    115314
                  ]
                },
                {
                  "customdata": [
                    "45.55 тыс.",
                    "105.01 тыс.",
                    "121.27 тыс."
                  ],
                  "hovertemplate": "Категория: %{x}<br>ЗП: %{customdata}<extra></extra>",
                  "name": "2021",
                  "type": "bar",
                  "x": [
                    "wide_specialist",
                    "narrow_specialist",
                    "head"
                  ],
                  "y": [
                    45555,
                    105011,
                    121268
                  ]
                },
                {
                  "customdata": [
                    "49.73 тыс.",
                    "114.63 тыс.",
                    "132.37 тыс."
                  ],
                  "hovertemplate": "Категория: %{x}<br>ЗП: %{customdata}<extra></extra>",
                  "name": "2022",
                  "type": "bar",
                  "x": [
                    "wide_specialist",
                    "narrow_specialist",
                    "head"
                  ],
                  "y": [
                    49727,
                    114628,
                    132374
                  ]
                },
                {
                  "customdata": [
                    "56.46 тыс.",
                    "130.14 тыс.",
                    "150.29 тыс."
                  ],
                  "hovertemplate": "Категория: %{x}<br>ЗП: %{customdata}<extra></extra>",
                  "name": "2023",
                  "type": "bar",
                  "x": [
                    "wide_specialist",
                    "narrow_specialist",
                    "head"
                  ],
                  "y": [
                    56457,
                    130141,
                    150288
                  ]
                },
                {
                  "customdata": [
                    "60.98 тыс.",
                    "140.57 тыс.",
                    "162.33 тыс."
                  ],
                  "hovertemplate": "Категория: %{x}<br>ЗП: %{customdata}<extra></extra>",
                  "name": "2024",
                  "type": "bar",
                  "x": [
                    "wide_specialist",
                    "narrow_specialist",
                    "head"
                  ],
                  "y": [
                    60982,
                    140571,
                    162333
                  ]
                },
                {
                  "customdata": [
                    "67.01 тыс.",
                    "154.47 тыс.",
                    "178.39 тыс."
                  ],
                  "hovertemplate": "Категория: %{x}<br>ЗП: %{customdata}<extra></extra>",
                  "name": "2025",
                  "type": "bar",
                  "x": [
                    "wide_specialist",
                    "narrow_specialist",
                    "head"
                  ],
                  "y": [
                    67013,
                    154474,
                    178388
                  ]
                }
              ],
              "layout": {
                "autosize": false,
                "height": 400,
                "legend": {
                  "title": {
                    "text": "Год"
                  }
                },
                "template": {
                  "data": {
                    "bar": [
                      {
                        "error_x": {
                          "color": "#2a3f5f"
                        },
                        "error_y": {
                          "color": "#2a3f5f"
                        },
                        "marker": {
                          "line": {
                            "color": "#E5ECF6",
                            "width": 0.5
                          },
                          "pattern": {
                            "fillmode": "overlay",
                            "size": 10,
                            "solidity": 0.2
                          }
                        },
                        "type": "bar"
                      }
                    ],
                    "barpolar": [
                      {
                        "marker": {
                          "line": {
                            "color": "#E5ECF6",
                            "width": 0.5
                          },
                          "pattern": {
                            "fillmode": "overlay",
                            "size": 10,
                            "solidity": 0.2
                          }
                        },
                        "type": "barpolar"
                      }
                    ],
                    "carpet": [
                      {
                        "aaxis": {
                          "endlinecolor": "#2a3f5f",
                          "gridcolor": "white",
                          "linecolor": "white",
                          "minorgridcolor": "white",
                          "startlinecolor": "#2a3f5f"
                        },
                        "baxis": {
                          "endlinecolor": "#2a3f5f",
                          "gridcolor": "white",
                          "linecolor": "white",
                          "minorgridcolor": "white",
                          "startlinecolor": "#2a3f5f"
                        },
                        "type": "carpet"
                      }
                    ],
                    "choropleth": [
                      {
                        "colorbar": {
                          "outlinewidth": 0,
                          "ticks": ""
                        },
                        "type": "choropleth"
                      }
                    ],
                    "contour": [
                      {
                        "colorbar": {
                          "outlinewidth": 0,
                          "ticks": ""
                        },
                        "colorscale": [
                          [
                            0,
                            "#0d0887"
                          ],
                          [
                            0.1111111111111111,
                            "#46039f"
                          ],
                          [
                            0.2222222222222222,
                            "#7201a8"
                          ],
                          [
                            0.3333333333333333,
                            "#9c179e"
                          ],
                          [
                            0.4444444444444444,
                            "#bd3786"
                          ],
                          [
                            0.5555555555555556,
                            "#d8576b"
                          ],
                          [
                            0.6666666666666666,
                            "#ed7953"
                          ],
                          [
                            0.7777777777777778,
                            "#fb9f3a"
                          ],
                          [
                            0.8888888888888888,
                            "#fdca26"
                          ],
                          [
                            1,
                            "#f0f921"
                          ]
                        ],
                        "type": "contour"
                      }
                    ],
                    "contourcarpet": [
                      {
                        "colorbar": {
                          "outlinewidth": 0,
                          "ticks": ""
                        },
                        "type": "contourcarpet"
                      }
                    ],
                    "heatmap": [
                      {
                        "colorbar": {
                          "outlinewidth": 0,
                          "ticks": ""
                        },
                        "colorscale": [
                          [
                            0,
                            "#0d0887"
                          ],
                          [
                            0.1111111111111111,
                            "#46039f"
                          ],
                          [
                            0.2222222222222222,
                            "#7201a8"
                          ],
                          [
                            0.3333333333333333,
                            "#9c179e"
                          ],
                          [
                            0.4444444444444444,
                            "#bd3786"
                          ],
                          [
                            0.5555555555555556,
                            "#d8576b"
                          ],
                          [
                            0.6666666666666666,
                            "#ed7953"
                          ],
                          [
                            0.7777777777777778,
                            "#fb9f3a"
                          ],
                          [
                            0.8888888888888888,
                            "#fdca26"
                          ],
                          [
                            1,
                            "#f0f921"
                          ]
                        ],
                        "type": "heatmap"
                      }
                    ],
                    "heatmapgl": [
                      {
                        "colorbar": {
                          "outlinewidth": 0,
                          "ticks": ""
                        },
                        "colorscale": [
                          [
                            0,
                            "#0d0887"
                          ],
                          [
                            0.1111111111111111,
                            "#46039f"
                          ],
                          [
                            0.2222222222222222,
                            "#7201a8"
                          ],
                          [
                            0.3333333333333333,
                            "#9c179e"
                          ],
                          [
                            0.4444444444444444,
                            "#bd3786"
                          ],
                          [
                            0.5555555555555556,
                            "#d8576b"
                          ],
                          [
                            0.6666666666666666,
                            "#ed7953"
                          ],
                          [
                            0.7777777777777778,
                            "#fb9f3a"
                          ],
                          [
                            0.8888888888888888,
                            "#fdca26"
                          ],
                          [
                            1,
                            "#f0f921"
                          ]
                        ],
                        "type": "heatmapgl"
                      }
                    ],
                    "histogram": [
                      {
                        "marker": {
                          "pattern": {
                            "fillmode": "overlay",
                            "size": 10,
                            "solidity": 0.2
                          }
                        },
                        "type": "histogram"
                      }
                    ],
                    "histogram2d": [
                      {
                        "colorbar": {
                          "outlinewidth": 0,
                          "ticks": ""
                        },
                        "colorscale": [
                          [
                            0,
                            "#0d0887"
                          ],
                          [
                            0.1111111111111111,
                            "#46039f"
                          ],
                          [
                            0.2222222222222222,
                            "#7201a8"
                          ],
                          [
                            0.3333333333333333,
                            "#9c179e"
                          ],
                          [
                            0.4444444444444444,
                            "#bd3786"
                          ],
                          [
                            0.5555555555555556,
                            "#d8576b"
                          ],
                          [
                            0.6666666666666666,
                            "#ed7953"
                          ],
                          [
                            0.7777777777777778,
                            "#fb9f3a"
                          ],
                          [
                            0.8888888888888888,
                            "#fdca26"
                          ],
                          [
                            1,
                            "#f0f921"
                          ]
                        ],
                        "type": "histogram2d"
                      }
                    ],
                    "histogram2dcontour": [
                      {
                        "colorbar": {
                          "outlinewidth": 0,
                          "ticks": ""
                        },
                        "colorscale": [
                          [
                            0,
                            "#0d0887"
                          ],
                          [
                            0.1111111111111111,
                            "#46039f"
                          ],
                          [
                            0.2222222222222222,
                            "#7201a8"
                          ],
                          [
                            0.3333333333333333,
                            "#9c179e"
                          ],
                          [
                            0.4444444444444444,
                            "#bd3786"
                          ],
                          [
                            0.5555555555555556,
                            "#d8576b"
                          ],
                          [
                            0.6666666666666666,
                            "#ed7953"
                          ],
                          [
                            0.7777777777777778,
                            "#fb9f3a"
                          ],
                          [
                            0.8888888888888888,
                            "#fdca26"
                          ],
                          [
                            1,
                            "#f0f921"
                          ]
                        ],
                        "type": "histogram2dcontour"
                      }
                    ],
                    "mesh3d": [
                      {
                        "colorbar": {
                          "outlinewidth": 0,
                          "ticks": ""
                        },
                        "type": "mesh3d"
                      }
                    ],
                    "parcoords": [
                      {
                        "line": {
                          "colorbar": {
                            "outlinewidth": 0,
                            "ticks": ""
                          }
                        },
                        "type": "parcoords"
                      }
                    ],
                    "pie": [
                      {
                        "automargin": true,
                        "type": "pie"
                      }
                    ],
                    "scatter": [
                      {
                        "fillpattern": {
                          "fillmode": "overlay",
                          "size": 10,
                          "solidity": 0.2
                        },
                        "type": "scatter"
                      }
                    ],
                    "scatter3d": [
                      {
                        "line": {
                          "colorbar": {
                            "outlinewidth": 0,
                            "ticks": ""
                          }
                        },
                        "marker": {
                          "colorbar": {
                            "outlinewidth": 0,
                            "ticks": ""
                          }
                        },
                        "type": "scatter3d"
                      }
                    ],
                    "scattercarpet": [
                      {
                        "marker": {
                          "colorbar": {
                            "outlinewidth": 0,
                            "ticks": ""
                          }
                        },
                        "type": "scattercarpet"
                      }
                    ],
                    "scattergeo": [
                      {
                        "marker": {
                          "colorbar": {
                            "outlinewidth": 0,
                            "ticks": ""
                          }
                        },
                        "type": "scattergeo"
                      }
                    ],
                    "scattergl": [
                      {
                        "marker": {
                          "colorbar": {
                            "outlinewidth": 0,
                            "ticks": ""
                          }
                        },
                        "type": "scattergl"
                      }
                    ],
                    "scattermapbox": [
                      {
                        "marker": {
                          "colorbar": {
                            "outlinewidth": 0,
                            "ticks": ""
                          }
                        },
                        "type": "scattermapbox"
                      }
                    ],
                    "scatterpolar": [
                      {
                        "marker": {
                          "colorbar": {
                            "outlinewidth": 0,
                            "ticks": ""
                          }
                        },
                        "type": "scatterpolar"
                      }
                    ],
                    "scatterpolargl": [
                      {
                        "marker": {
                          "colorbar": {
                            "outlinewidth": 0,
                            "ticks": ""
                          }
                        },
                        "type": "scatterpolargl"
                      }
                    ],
                    "scatterternary": [
                      {
                        "marker": {
                          "colorbar": {
                            "outlinewidth": 0,
                            "ticks": ""
                          }
                        },
                        "type": "scatterternary"
                      }
                    ],
                    "surface": [
                      {
                        "colorbar": {
                          "outlinewidth": 0,
                          "ticks": ""
                        },
                        "colorscale": [
                          [
                            0,
                            "#0d0887"
                          ],
                          [
                            0.1111111111111111,
                            "#46039f"
                          ],
                          [
                            0.2222222222222222,
                            "#7201a8"
                          ],
                          [
                            0.3333333333333333,
                            "#9c179e"
                          ],
                          [
                            0.4444444444444444,
                            "#bd3786"
                          ],
                          [
                            0.5555555555555556,
                            "#d8576b"
                          ],
                          [
                            0.6666666666666666,
                            "#ed7953"
                          ],
                          [
                            0.7777777777777778,
                            "#fb9f3a"
                          ],
                          [
                            0.8888888888888888,
                            "#fdca26"
                          ],
                          [
                            1,
                            "#f0f921"
                          ]
                        ],
                        "type": "surface"
                      }
                    ],
                    "table": [
                      {
                        "cells": {
                          "fill": {
                            "color": "#EBF0F8"
                          },
                          "line": {
                            "color": "white"
                          }
                        },
                        "header": {
                          "fill": {
                            "color": "#C8D4E3"
                          },
                          "line": {
                            "color": "white"
                          }
                        },
                        "type": "table"
                      }
                    ]
                  },
                  "layout": {
                    "annotationdefaults": {
                      "arrowcolor": "#2a3f5f",
                      "arrowhead": 0,
                      "arrowwidth": 1
                    },
                    "autotypenumbers": "strict",
                    "coloraxis": {
                      "colorbar": {
                        "outlinewidth": 0,
                        "ticks": ""
                      }
                    },
                    "colorscale": {
                      "diverging": [
                        [
                          0,
                          "#8e0152"
                        ],
                        [
                          0.1,
                          "#c51b7d"
                        ],
                        [
                          0.2,
                          "#de77ae"
                        ],
                        [
                          0.3,
                          "#f1b6da"
                        ],
                        [
                          0.4,
                          "#fde0ef"
                        ],
                        [
                          0.5,
                          "#f7f7f7"
                        ],
                        [
                          0.6,
                          "#e6f5d0"
                        ],
                        [
                          0.7,
                          "#b8e186"
                        ],
                        [
                          0.8,
                          "#7fbc41"
                        ],
                        [
                          0.9,
                          "#4d9221"
                        ],
                        [
                          1,
                          "#276419"
                        ]
                      ],
                      "sequential": [
                        [
                          0,
                          "#0d0887"
                        ],
                        [
                          0.1111111111111111,
                          "#46039f"
                        ],
                        [
                          0.2222222222222222,
                          "#7201a8"
                        ],
                        [
                          0.3333333333333333,
                          "#9c179e"
                        ],
                        [
                          0.4444444444444444,
                          "#bd3786"
                        ],
                        [
                          0.5555555555555556,
                          "#d8576b"
                        ],
                        [
                          0.6666666666666666,
                          "#ed7953"
                        ],
                        [
                          0.7777777777777778,
                          "#fb9f3a"
                        ],
                        [
                          0.8888888888888888,
                          "#fdca26"
                        ],
                        [
                          1,
                          "#f0f921"
                        ]
                      ],
                      "sequentialminus": [
                        [
                          0,
                          "#0d0887"
                        ],
                        [
                          0.1111111111111111,
                          "#46039f"
                        ],
                        [
                          0.2222222222222222,
                          "#7201a8"
                        ],
                        [
                          0.3333333333333333,
                          "#9c179e"
                        ],
                        [
                          0.4444444444444444,
                          "#bd3786"
                        ],
                        [
                          0.5555555555555556,
                          "#d8576b"
                        ],
                        [
                          0.6666666666666666,
                          "#ed7953"
                        ],
                        [
                          0.7777777777777778,
                          "#fb9f3a"
                        ],
                        [
                          0.8888888888888888,
                          "#fdca26"
                        ],
                        [
                          1,
                          "#f0f921"
                        ]
                      ]
                    },
                    "colorway": [
                      "#636efa",
                      "#EF553B",
                      "#00cc96",
                      "#ab63fa",
                      "#FFA15A",
                      "#19d3f3",
                      "#FF6692",
                      "#B6E880",
                      "#FF97FF",
                      "#FECB52"
                    ],
                    "font": {
                      "color": "#2a3f5f"
                    },
                    "geo": {
                      "bgcolor": "white",
                      "lakecolor": "white",
                      "landcolor": "#E5ECF6",
                      "showlakes": true,
                      "showland": true,
                      "subunitcolor": "white"
                    },
                    "hoverlabel": {
                      "align": "left"
                    },
                    "hovermode": "closest",
                    "mapbox": {
                      "style": "light"
                    },
                    "paper_bgcolor": "white",
                    "plot_bgcolor": "#E5ECF6",
                    "polar": {
                      "angularaxis": {
                        "gridcolor": "white",
                        "linecolor": "white",
                        "ticks": ""
                      },
                      "bgcolor": "#E5ECF6",
                      "radialaxis": {
                        "gridcolor": "white",
                        "linecolor": "white",
                        "ticks": ""
                      }
                    },
                    "scene": {
                      "xaxis": {
                        "backgroundcolor": "#E5ECF6",
                        "gridcolor": "white",
                        "gridwidth": 2,
                        "linecolor": "white",
                        "showbackground": true,
                        "ticks": "",
                        "zerolinecolor": "white"
                      },
                      "yaxis": {
                        "backgroundcolor": "#E5ECF6",
                        "gridcolor": "white",
                        "gridwidth": 2,
                        "linecolor": "white",
                        "showbackground": true,
                        "ticks": "",
                        "zerolinecolor": "white"
                      },
                      "zaxis": {
                        "backgroundcolor": "#E5ECF6",
                        "gridcolor": "white",
                        "gridwidth": 2,
                        "linecolor": "white",
                        "showbackground": true,
                        "ticks": "",
                        "zerolinecolor": "white"
                      }
                    },
                    "shapedefaults": {
                      "line": {
                        "color": "#2a3f5f"
                      }
                    },
                    "ternary": {
                      "aaxis": {
                        "gridcolor": "white",
                        "linecolor": "white",
                        "ticks": ""
                      },
                      "baxis": {
                        "gridcolor": "white",
                        "linecolor": "white",
                        "ticks": ""
                      },
                      "bgcolor": "#E5ECF6",
                      "caxis": {
                        "gridcolor": "white",
                        "linecolor": "white",
                        "ticks": ""
                      }
                    },
                    "title": {
                      "x": 0.05
                    },
                    "xaxis": {
                      "automargin": true,
                      "gridcolor": "white",
                      "linecolor": "white",
                      "ticks": "",
                      "title": {
                        "standoff": 15
                      },
                      "zerolinecolor": "white",
                      "zerolinewidth": 2
                    },
                    "yaxis": {
                      "automargin": true,
                      "gridcolor": "white",
                      "linecolor": "white",
                      "ticks": "",
                      "title": {
                        "standoff": 15
                      },
                      "zerolinecolor": "white",
                      "zerolinewidth": 2
                    }
                  }
                },
                "width": 750,
                "xaxis": {
                  "tickmode": "array",
                  "ticktext": [
                    "специалист широкого профиля",
                    "специалист узкого профиля",
                    "руководитель"
                  ],
                  "tickvals": [
                    "wide_specialist",
                    "narrow_specialist",
                    "head"
                  ],
                  "title": {
                    "text": "Категории вакансий"
                  }
                },
                "yaxis": {
                  "tickmode": "array",
                  "ticktext": [
                    "20 тыс.",
                    "40 тыс.",
                    "60 тыс.",
                    "80 тыс.",
                    "100 тыс.",
                    "120 тыс.",
                    "140 тыс.",
                    "160 тыс.",
                    "180 тыс.",
                    "200 тыс."
                  ],
                  "tickvals": [
                    20000,
                    40000,
                    60000,
                    80000,
                    100000,
                    120000,
                    140000,
                    160000,
                    180000,
                    200000
                  ],
                  "title": {
                    "text": "Средняя ожидаемая ЗП"
                  }
                }
              }
            }
          },
          "metadata": {},
          "output_type": "display_data"
        }
      ],
      "source": [
        "'''Отобразим результаты на столбчатой диаграмме'''\n",
        "\n",
        "#строим график\n",
        "data=[go.Bar(x=bar_data['Group'],\n",
        "               y=bar_data['2020'], #датафрейм\n",
        "               name='2020',\n",
        "               hovertemplate= 'Категория: %{x}<br>'+'ЗП: %{customdata}'+'<extra></extra>',\n",
        "               customdata=list(map(lambda x: f'{round((x/1000),2)} тыс.', list(bar_data['2020'])))\n",
        "               ),\n",
        "    go.Bar(x=bar_data['Group'],\n",
        "           y=bar_data['2021'], #датафрейм\n",
        "               name='2021',\n",
        "               hovertemplate= 'Категория: %{x}<br>'+'ЗП: %{customdata}'+'<extra></extra>',\n",
        "               customdata=list(map(lambda x: f'{round((x/1000),2)} тыс.', list(bar_data['2021'])))\n",
        "               ),\n",
        "    go.Bar(x=bar_data['Group'],\n",
        "           y=bar_data['2022'], #датафрейм\n",
        "               name='2022',\n",
        "               hovertemplate= 'Категория: %{x}<br>'+'ЗП: %{customdata}'+'<extra></extra>',\n",
        "               customdata=list(map(lambda x: f'{round((x/1000),2)} тыс.', list(bar_data['2022'])))\n",
        "               ),\n",
        "    go.Bar(x=bar_data['Group'],\n",
        "           y=bar_data['2023'], #датафрейм\n",
        "               name='2023',\n",
        "               hovertemplate= 'Категория: %{x}<br>'+'ЗП: %{customdata}'+'<extra></extra>',\n",
        "               customdata=list(map(lambda x: f'{round((x/1000),2)} тыс.', list(bar_data['2023'])))\n",
        "               ),\n",
        "    go.Bar(x=bar_data['Group'],\n",
        "           y=bar_data['2024'], #датафрейм\n",
        "               name='2024',\n",
        "               hovertemplate= 'Категория: %{x}<br>'+'ЗП: %{customdata}'+'<extra></extra>',\n",
        "               customdata=list(map(lambda x: f'{round((x/1000),2)} тыс.', list(bar_data['2024'])))\n",
        "               ),\n",
        "    go.Bar(x=bar_data['Group'],\n",
        "           y=bar_data['2025'], #датафрейм\n",
        "               name='2025',\n",
        "               hovertemplate= 'Категория: %{x}<br>'+'ЗП: %{customdata}'+'<extra></extra>',\n",
        "               customdata=list(map(lambda x: f'{round((x/1000),2)} тыс.', list(bar_data['2025'])))\n",
        "               )\n",
        "       ]\n",
        "\n",
        "fig = go.Figure(data)\n",
        "\n",
        "fig.update_layout(autosize=False, width=750, height=400,\n",
        "                  legend_title='Год',\n",
        "                  xaxis_title=\"Категории вакансий\",\n",
        "                  yaxis_title=\"Средняя ожидаемая ЗП\",\n",
        "                  xaxis = {'tickmode': 'array',\n",
        "                            'tickvals':list(bar_data['Group']),\n",
        "                            'ticktext': ['специалист широкого профиля','специалист узкого профиля','руководитель']},\n",
        "                  yaxis = {'tickmode': 'array',\n",
        "                           'tickvals': list(range(20000,220000,20000)),\n",
        "                           'ticktext': list(map(lambda x: f'{int(x/1000)} тыс.', list(range(20000,220000,20000))))\n",
        "                           })\n",
        "fig.write_html('_includes/2.html')\n",
        "fig.write_image('_includes/2.png')\n",
        "fig.show()"
      ]
    },
    {
      "cell_type": "markdown",
      "id": "fd188b07",
      "metadata": {},
      "source": [
        "![Рис. 2](_includes/2.png)"
      ]
    },
    {
      "cell_type": "markdown",
      "id": "06766936",
      "metadata": {},
      "source": [
        "В конечном итоге мы получили ожидаемую среднюю заработную плату в 2025 году для разных категорий вакансий исходя из анализа рынка труда и инфляционных ожиданий.\n",
        "\n",
        "### Спасибо за внимание."
      ]
    }
  ],
  "metadata": {
    "colab": {
      "collapsed_sections": [
        "8d62a9f3-f64e-4fe7-bdac-c4dffa16155e"
      ],
      "provenance": []
    },
    "kernelspec": {
      "display_name": "Python 3 (ipykernel)",
      "language": "python",
      "name": "python3"
    },
    "language_info": {
      "codemirror_mode": {
        "name": "ipython",
        "version": 3
      },
      "file_extension": ".py",
      "mimetype": "text/x-python",
      "name": "python",
      "nbconvert_exporter": "python",
      "pygments_lexer": "ipython3",
      "version": "3.10.12"
    }
  },
  "nbformat": 4,
  "nbformat_minor": 5
}
